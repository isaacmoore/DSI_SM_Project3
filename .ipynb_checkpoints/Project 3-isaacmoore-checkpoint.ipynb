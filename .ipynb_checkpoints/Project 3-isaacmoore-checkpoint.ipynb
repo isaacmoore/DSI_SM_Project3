{
 "cells": [
  {
   "cell_type": "markdown",
   "metadata": {},
   "source": [
    "# Getting started\n",
    "\n",
    "Once you've chosen your scenario, download the data from [the Iowa website](https://data.iowa.gov/Economy/Iowa-Liquor-Sales/m3tr-qhgy) in csv format. Start by loading the data with pandas. You may need to parse the date columns appropriately."
   ]
  },
  {
   "cell_type": "code",
   "execution_count": 1,
   "metadata": {
    "collapsed": false
   },
   "outputs": [],
   "source": [
    "import pandas as pd\n",
    "import seaborn as sns\n",
    "import numpy as np\n",
    "import matplotlib.pyplot as plt\n",
    "from sklearn import linear_model, metrics\n",
    "import statsmodels.api as sm\n",
    "\n",
    "%matplotlib inline"
   ]
  },
  {
   "cell_type": "code",
   "execution_count": 2,
   "metadata": {
    "collapsed": false
   },
   "outputs": [],
   "source": [
    "## Load the data into a DataFrame\n",
    "df = pd.read_csv('Iowa_Liquor_sales_sample_10pct.csv')\n",
    "\n",
    "## Transform the dates if needed, e.g.\n",
    "# df[\"Date\"] = pd.to_datetime(df[\"Date\"], format=\"%m-%d-%y\")"
   ]
  },
  {
   "cell_type": "code",
   "execution_count": 3,
   "metadata": {
    "collapsed": true
   },
   "outputs": [],
   "source": [
    "# Create a copy of the data\n",
    "data = df"
   ]
  },
  {
   "cell_type": "code",
   "execution_count": 4,
   "metadata": {
    "collapsed": false
   },
   "outputs": [
    {
     "data": {
      "text/html": [
       "<div>\n",
       "<table border=\"1\" class=\"dataframe\">\n",
       "  <thead>\n",
       "    <tr style=\"text-align: right;\">\n",
       "      <th></th>\n",
       "      <th>Date</th>\n",
       "      <th>Store Number</th>\n",
       "      <th>City</th>\n",
       "      <th>Zip Code</th>\n",
       "      <th>County Number</th>\n",
       "      <th>County</th>\n",
       "      <th>Category</th>\n",
       "      <th>Category Name</th>\n",
       "      <th>Vendor Number</th>\n",
       "      <th>Item Number</th>\n",
       "      <th>Item Description</th>\n",
       "      <th>Bottle Volume (ml)</th>\n",
       "      <th>State Bottle Cost</th>\n",
       "      <th>State Bottle Retail</th>\n",
       "      <th>Bottles Sold</th>\n",
       "      <th>Sale (Dollars)</th>\n",
       "      <th>Volume Sold (Liters)</th>\n",
       "      <th>Volume Sold (Gallons)</th>\n",
       "    </tr>\n",
       "  </thead>\n",
       "  <tbody>\n",
       "    <tr>\n",
       "      <th>0</th>\n",
       "      <td>11/04/2015</td>\n",
       "      <td>3717</td>\n",
       "      <td>SUMNER</td>\n",
       "      <td>50674</td>\n",
       "      <td>9</td>\n",
       "      <td>Bremer</td>\n",
       "      <td>1051100</td>\n",
       "      <td>APRICOT BRANDIES</td>\n",
       "      <td>55</td>\n",
       "      <td>54436</td>\n",
       "      <td>Mr. Boston Apricot Brandy</td>\n",
       "      <td>750</td>\n",
       "      <td>$4.50</td>\n",
       "      <td>$6.75</td>\n",
       "      <td>12</td>\n",
       "      <td>$81.00</td>\n",
       "      <td>9.0</td>\n",
       "      <td>2.38</td>\n",
       "    </tr>\n",
       "    <tr>\n",
       "      <th>1</th>\n",
       "      <td>03/02/2016</td>\n",
       "      <td>2614</td>\n",
       "      <td>DAVENPORT</td>\n",
       "      <td>52807</td>\n",
       "      <td>82</td>\n",
       "      <td>Scott</td>\n",
       "      <td>1011100</td>\n",
       "      <td>BLENDED WHISKIES</td>\n",
       "      <td>395</td>\n",
       "      <td>27605</td>\n",
       "      <td>Tin Cup</td>\n",
       "      <td>750</td>\n",
       "      <td>$13.75</td>\n",
       "      <td>$20.63</td>\n",
       "      <td>2</td>\n",
       "      <td>$41.26</td>\n",
       "      <td>1.5</td>\n",
       "      <td>0.40</td>\n",
       "    </tr>\n",
       "    <tr>\n",
       "      <th>2</th>\n",
       "      <td>02/11/2016</td>\n",
       "      <td>2106</td>\n",
       "      <td>CEDAR FALLS</td>\n",
       "      <td>50613</td>\n",
       "      <td>7</td>\n",
       "      <td>Black Hawk</td>\n",
       "      <td>1011200</td>\n",
       "      <td>STRAIGHT BOURBON WHISKIES</td>\n",
       "      <td>65</td>\n",
       "      <td>19067</td>\n",
       "      <td>Jim Beam</td>\n",
       "      <td>1000</td>\n",
       "      <td>$12.59</td>\n",
       "      <td>$18.89</td>\n",
       "      <td>24</td>\n",
       "      <td>$453.36</td>\n",
       "      <td>24.0</td>\n",
       "      <td>6.34</td>\n",
       "    </tr>\n",
       "    <tr>\n",
       "      <th>3</th>\n",
       "      <td>02/03/2016</td>\n",
       "      <td>2501</td>\n",
       "      <td>AMES</td>\n",
       "      <td>50010</td>\n",
       "      <td>85</td>\n",
       "      <td>Story</td>\n",
       "      <td>1071100</td>\n",
       "      <td>AMERICAN COCKTAILS</td>\n",
       "      <td>395</td>\n",
       "      <td>59154</td>\n",
       "      <td>1800 Ultimate Margarita</td>\n",
       "      <td>1750</td>\n",
       "      <td>$9.50</td>\n",
       "      <td>$14.25</td>\n",
       "      <td>6</td>\n",
       "      <td>$85.50</td>\n",
       "      <td>10.5</td>\n",
       "      <td>2.77</td>\n",
       "    </tr>\n",
       "    <tr>\n",
       "      <th>4</th>\n",
       "      <td>08/18/2015</td>\n",
       "      <td>3654</td>\n",
       "      <td>BELMOND</td>\n",
       "      <td>50421</td>\n",
       "      <td>99</td>\n",
       "      <td>Wright</td>\n",
       "      <td>1031080</td>\n",
       "      <td>VODKA 80 PROOF</td>\n",
       "      <td>297</td>\n",
       "      <td>35918</td>\n",
       "      <td>Five O'clock Vodka</td>\n",
       "      <td>1750</td>\n",
       "      <td>$7.20</td>\n",
       "      <td>$10.80</td>\n",
       "      <td>12</td>\n",
       "      <td>$129.60</td>\n",
       "      <td>21.0</td>\n",
       "      <td>5.55</td>\n",
       "    </tr>\n",
       "  </tbody>\n",
       "</table>\n",
       "</div>"
      ],
      "text/plain": [
       "         Date  Store Number         City Zip Code  County Number      County  \\\n",
       "0  11/04/2015          3717       SUMNER    50674              9      Bremer   \n",
       "1  03/02/2016          2614    DAVENPORT    52807             82       Scott   \n",
       "2  02/11/2016          2106  CEDAR FALLS    50613              7  Black Hawk   \n",
       "3  02/03/2016          2501         AMES    50010             85       Story   \n",
       "4  08/18/2015          3654      BELMOND    50421             99      Wright   \n",
       "\n",
       "   Category              Category Name  Vendor Number  Item Number  \\\n",
       "0   1051100           APRICOT BRANDIES             55        54436   \n",
       "1   1011100           BLENDED WHISKIES            395        27605   \n",
       "2   1011200  STRAIGHT BOURBON WHISKIES             65        19067   \n",
       "3   1071100         AMERICAN COCKTAILS            395        59154   \n",
       "4   1031080             VODKA 80 PROOF            297        35918   \n",
       "\n",
       "            Item Description  Bottle Volume (ml) State Bottle Cost  \\\n",
       "0  Mr. Boston Apricot Brandy                 750             $4.50   \n",
       "1                    Tin Cup                 750            $13.75   \n",
       "2                   Jim Beam                1000            $12.59   \n",
       "3    1800 Ultimate Margarita                1750             $9.50   \n",
       "4         Five O'clock Vodka                1750             $7.20   \n",
       "\n",
       "  State Bottle Retail  Bottles Sold Sale (Dollars)  Volume Sold (Liters)  \\\n",
       "0               $6.75            12         $81.00                   9.0   \n",
       "1              $20.63             2         $41.26                   1.5   \n",
       "2              $18.89            24        $453.36                  24.0   \n",
       "3              $14.25             6         $85.50                  10.5   \n",
       "4              $10.80            12        $129.60                  21.0   \n",
       "\n",
       "   Volume Sold (Gallons)  \n",
       "0                   2.38  \n",
       "1                   0.40  \n",
       "2                   6.34  \n",
       "3                   2.77  \n",
       "4                   5.55  "
      ]
     },
     "execution_count": 4,
     "metadata": {},
     "output_type": "execute_result"
    }
   ],
   "source": [
    "data.head()"
   ]
  },
  {
   "cell_type": "markdown",
   "metadata": {},
   "source": [
    "# Explore the data\n",
    "\n",
    "Perform some exploratory statistical analysis and make some plots, such as histograms of transaction totals, bottles sold, etc.\n",
    "\n",
    "## Record your findings\n",
    "\n",
    "Be sure to write out anything observations from your exploratory analysis."
   ]
  },
  {
   "cell_type": "code",
   "execution_count": 5,
   "metadata": {
    "collapsed": false,
    "scrolled": true
   },
   "outputs": [
    {
     "data": {
      "text/plain": [
       "(270955, 18)"
      ]
     },
     "execution_count": 5,
     "metadata": {},
     "output_type": "execute_result"
    }
   ],
   "source": [
    "data.shape"
   ]
  },
  {
   "cell_type": "code",
   "execution_count": 6,
   "metadata": {
    "collapsed": false,
    "scrolled": false
   },
   "outputs": [
    {
     "data": {
      "text/plain": [
       "Date                      object\n",
       "Store Number               int64\n",
       "City                      object\n",
       "Zip Code                  object\n",
       "County Number            float64\n",
       "County                    object\n",
       "Category                 float64\n",
       "Category Name             object\n",
       "Vendor Number              int64\n",
       "Item Number                int64\n",
       "Item Description          object\n",
       "Bottle Volume (ml)         int64\n",
       "State Bottle Cost         object\n",
       "State Bottle Retail       object\n",
       "Bottles Sold               int64\n",
       "Sale (Dollars)            object\n",
       "Volume Sold (Liters)     float64\n",
       "Volume Sold (Gallons)    float64\n",
       "dtype: object"
      ]
     },
     "execution_count": 6,
     "metadata": {},
     "output_type": "execute_result"
    }
   ],
   "source": [
    "data.dtypes"
   ]
  },
  {
   "cell_type": "code",
   "execution_count": 7,
   "metadata": {
    "collapsed": false
   },
   "outputs": [],
   "source": [
    "del data['County Number']"
   ]
  },
  {
   "cell_type": "code",
   "execution_count": 8,
   "metadata": {
    "collapsed": false
   },
   "outputs": [],
   "source": [
    "del data['Item Number']"
   ]
  },
  {
   "cell_type": "code",
   "execution_count": 9,
   "metadata": {
    "collapsed": false
   },
   "outputs": [],
   "source": [
    "# Convert dates\n",
    "data['Date'] = pd.to_datetime(data['Date'])"
   ]
  },
  {
   "cell_type": "code",
   "execution_count": 10,
   "metadata": {
    "collapsed": false
   },
   "outputs": [],
   "source": [
    "# Remove $ from items in columns\n",
    "data['State Bottle Cost'] = data['State Bottle Cost'].replace('\\$', '', regex=True)\n",
    "data['State Bottle Retail'] = data['State Bottle Retail'].replace('\\$', '', regex=True)\n",
    "data['Sale (Dollars)'] = data['Sale (Dollars)'].replace('\\$', '', regex=True)"
   ]
  },
  {
   "cell_type": "code",
   "execution_count": 11,
   "metadata": {
    "collapsed": true
   },
   "outputs": [],
   "source": [
    "# Convert int to float\n",
    "data['Store Number'] = data['Store Number'].astype(int)\n",
    "data['Vendor Number'] = data['Vendor Number'].astype(int)\n",
    "data['Bottle Volume (ml)'] = data['Bottle Volume (ml)'].astype(float)\n",
    "data['Bottles Sold'] = data['Bottles Sold'].astype(float)\n",
    "data['State Bottle Cost'] = data['State Bottle Cost'].astype(float)\n",
    "data['State Bottle Retail'] = data['State Bottle Retail'].astype(float)\n",
    "data['Sale (Dollars)'] = data['Sale (Dollars)'].astype(float)"
   ]
  },
  {
   "cell_type": "code",
   "execution_count": 12,
   "metadata": {
    "collapsed": false,
    "scrolled": true
   },
   "outputs": [
    {
     "data": {
      "text/plain": [
       "Date                     datetime64[ns]\n",
       "Store Number                      int64\n",
       "City                             object\n",
       "Zip Code                         object\n",
       "County                           object\n",
       "Category                        float64\n",
       "Category Name                    object\n",
       "Vendor Number                     int64\n",
       "Item Description                 object\n",
       "Bottle Volume (ml)              float64\n",
       "State Bottle Cost               float64\n",
       "State Bottle Retail             float64\n",
       "Bottles Sold                    float64\n",
       "Sale (Dollars)                  float64\n",
       "Volume Sold (Liters)            float64\n",
       "Volume Sold (Gallons)           float64\n",
       "dtype: object"
      ]
     },
     "execution_count": 12,
     "metadata": {},
     "output_type": "execute_result"
    }
   ],
   "source": [
    "# Check to see if columns were renamed and and types changed.\n",
    "data.dtypes"
   ]
  },
  {
   "cell_type": "code",
   "execution_count": 13,
   "metadata": {
    "collapsed": false
   },
   "outputs": [
    {
     "data": {
      "text/plain": [
       "Date                        0\n",
       "Store Number                0\n",
       "City                        0\n",
       "Zip Code                    0\n",
       "County                   1077\n",
       "Category                   68\n",
       "Category Name             632\n",
       "Vendor Number               0\n",
       "Item Description            0\n",
       "Bottle Volume (ml)          0\n",
       "State Bottle Cost           0\n",
       "State Bottle Retail         0\n",
       "Bottles Sold                0\n",
       "Sale (Dollars)              0\n",
       "Volume Sold (Liters)        0\n",
       "Volume Sold (Gallons)       0\n",
       "dtype: int64"
      ]
     },
     "execution_count": 13,
     "metadata": {},
     "output_type": "execute_result"
    }
   ],
   "source": [
    "# Checking which columns have null values in the dataset.\n",
    "data.isnull().sum()"
   ]
  },
  {
   "cell_type": "code",
   "execution_count": 14,
   "metadata": {
    "collapsed": true
   },
   "outputs": [],
   "source": [
    "# Dropping the Null values from the dataset.\n",
    "data = data.dropna(axis = 0, how = 'any')"
   ]
  },
  {
   "cell_type": "code",
   "execution_count": 15,
   "metadata": {
    "collapsed": false
   },
   "outputs": [
    {
     "data": {
      "text/plain": [
       "Date                     0\n",
       "Store Number             0\n",
       "City                     0\n",
       "Zip Code                 0\n",
       "County                   0\n",
       "Category                 0\n",
       "Category Name            0\n",
       "Vendor Number            0\n",
       "Item Description         0\n",
       "Bottle Volume (ml)       0\n",
       "State Bottle Cost        0\n",
       "State Bottle Retail      0\n",
       "Bottles Sold             0\n",
       "Sale (Dollars)           0\n",
       "Volume Sold (Liters)     0\n",
       "Volume Sold (Gallons)    0\n",
       "dtype: int64"
      ]
     },
     "execution_count": 15,
     "metadata": {},
     "output_type": "execute_result"
    }
   ],
   "source": [
    "# Confirming the null values were removed.\n",
    "data.isnull().sum()"
   ]
  },
  {
   "cell_type": "markdown",
   "metadata": {},
   "source": [
    "### Statistical Analysis"
   ]
  },
  {
   "cell_type": "code",
   "execution_count": 16,
   "metadata": {
    "collapsed": false,
    "scrolled": false
   },
   "outputs": [
    {
     "data": {
      "text/html": [
       "<div>\n",
       "<table border=\"1\" class=\"dataframe\">\n",
       "  <thead>\n",
       "    <tr style=\"text-align: right;\">\n",
       "      <th></th>\n",
       "      <th>Store Number</th>\n",
       "      <th>Category</th>\n",
       "      <th>Vendor Number</th>\n",
       "      <th>Bottle Volume (ml)</th>\n",
       "      <th>State Bottle Cost</th>\n",
       "      <th>State Bottle Retail</th>\n",
       "      <th>Bottles Sold</th>\n",
       "      <th>Sale (Dollars)</th>\n",
       "      <th>Volume Sold (Liters)</th>\n",
       "      <th>Volume Sold (Gallons)</th>\n",
       "    </tr>\n",
       "  </thead>\n",
       "  <tbody>\n",
       "    <tr>\n",
       "      <th>count</th>\n",
       "      <td>269258.000000</td>\n",
       "      <td>269258.000000</td>\n",
       "      <td>269258.00000</td>\n",
       "      <td>269258.000000</td>\n",
       "      <td>269258.000000</td>\n",
       "      <td>269258.000000</td>\n",
       "      <td>269258.000000</td>\n",
       "      <td>269258.000000</td>\n",
       "      <td>269258.000000</td>\n",
       "      <td>269258.000000</td>\n",
       "    </tr>\n",
       "    <tr>\n",
       "      <th>mean</th>\n",
       "      <td>3587.695311</td>\n",
       "      <td>1043866.436377</td>\n",
       "      <td>256.36045</td>\n",
       "      <td>925.217375</td>\n",
       "      <td>9.763293</td>\n",
       "      <td>14.660848</td>\n",
       "      <td>9.874028</td>\n",
       "      <td>128.828546</td>\n",
       "      <td>8.991069</td>\n",
       "      <td>2.375397</td>\n",
       "    </tr>\n",
       "    <tr>\n",
       "      <th>std</th>\n",
       "      <td>946.505088</td>\n",
       "      <td>50218.337540</td>\n",
       "      <td>140.98313</td>\n",
       "      <td>492.837459</td>\n",
       "      <td>7.039787</td>\n",
       "      <td>10.559164</td>\n",
       "      <td>24.072335</td>\n",
       "      <td>383.477046</td>\n",
       "      <td>28.963204</td>\n",
       "      <td>7.651262</td>\n",
       "    </tr>\n",
       "    <tr>\n",
       "      <th>min</th>\n",
       "      <td>2106.000000</td>\n",
       "      <td>1011100.000000</td>\n",
       "      <td>10.00000</td>\n",
       "      <td>50.000000</td>\n",
       "      <td>0.890000</td>\n",
       "      <td>1.340000</td>\n",
       "      <td>1.000000</td>\n",
       "      <td>1.340000</td>\n",
       "      <td>0.100000</td>\n",
       "      <td>0.030000</td>\n",
       "    </tr>\n",
       "    <tr>\n",
       "      <th>25%</th>\n",
       "      <td>2604.000000</td>\n",
       "      <td>1012200.000000</td>\n",
       "      <td>115.00000</td>\n",
       "      <td>750.000000</td>\n",
       "      <td>5.500000</td>\n",
       "      <td>8.250000</td>\n",
       "      <td>2.000000</td>\n",
       "      <td>30.420000</td>\n",
       "      <td>1.500000</td>\n",
       "      <td>0.400000</td>\n",
       "    </tr>\n",
       "    <tr>\n",
       "      <th>50%</th>\n",
       "      <td>3721.000000</td>\n",
       "      <td>1031200.000000</td>\n",
       "      <td>260.00000</td>\n",
       "      <td>750.000000</td>\n",
       "      <td>8.000000</td>\n",
       "      <td>12.110000</td>\n",
       "      <td>6.000000</td>\n",
       "      <td>70.560000</td>\n",
       "      <td>5.250000</td>\n",
       "      <td>1.390000</td>\n",
       "    </tr>\n",
       "    <tr>\n",
       "      <th>75%</th>\n",
       "      <td>4376.000000</td>\n",
       "      <td>1062310.000000</td>\n",
       "      <td>380.00000</td>\n",
       "      <td>1000.000000</td>\n",
       "      <td>11.920000</td>\n",
       "      <td>17.880000</td>\n",
       "      <td>12.000000</td>\n",
       "      <td>135.000000</td>\n",
       "      <td>10.500000</td>\n",
       "      <td>2.770000</td>\n",
       "    </tr>\n",
       "    <tr>\n",
       "      <th>max</th>\n",
       "      <td>9023.000000</td>\n",
       "      <td>1701100.000000</td>\n",
       "      <td>978.00000</td>\n",
       "      <td>6000.000000</td>\n",
       "      <td>425.000000</td>\n",
       "      <td>637.500000</td>\n",
       "      <td>2508.000000</td>\n",
       "      <td>36392.400000</td>\n",
       "      <td>2508.000000</td>\n",
       "      <td>662.540000</td>\n",
       "    </tr>\n",
       "  </tbody>\n",
       "</table>\n",
       "</div>"
      ],
      "text/plain": [
       "        Store Number        Category  Vendor Number  Bottle Volume (ml)  \\\n",
       "count  269258.000000   269258.000000   269258.00000       269258.000000   \n",
       "mean     3587.695311  1043866.436377      256.36045          925.217375   \n",
       "std       946.505088    50218.337540      140.98313          492.837459   \n",
       "min      2106.000000  1011100.000000       10.00000           50.000000   \n",
       "25%      2604.000000  1012200.000000      115.00000          750.000000   \n",
       "50%      3721.000000  1031200.000000      260.00000          750.000000   \n",
       "75%      4376.000000  1062310.000000      380.00000         1000.000000   \n",
       "max      9023.000000  1701100.000000      978.00000         6000.000000   \n",
       "\n",
       "       State Bottle Cost  State Bottle Retail   Bottles Sold  Sale (Dollars)  \\\n",
       "count      269258.000000        269258.000000  269258.000000   269258.000000   \n",
       "mean            9.763293            14.660848       9.874028      128.828546   \n",
       "std             7.039787            10.559164      24.072335      383.477046   \n",
       "min             0.890000             1.340000       1.000000        1.340000   \n",
       "25%             5.500000             8.250000       2.000000       30.420000   \n",
       "50%             8.000000            12.110000       6.000000       70.560000   \n",
       "75%            11.920000            17.880000      12.000000      135.000000   \n",
       "max           425.000000           637.500000    2508.000000    36392.400000   \n",
       "\n",
       "       Volume Sold (Liters)  Volume Sold (Gallons)  \n",
       "count         269258.000000          269258.000000  \n",
       "mean               8.991069               2.375397  \n",
       "std               28.963204               7.651262  \n",
       "min                0.100000               0.030000  \n",
       "25%                1.500000               0.400000  \n",
       "50%                5.250000               1.390000  \n",
       "75%               10.500000               2.770000  \n",
       "max             2508.000000             662.540000  "
      ]
     },
     "execution_count": 16,
     "metadata": {},
     "output_type": "execute_result"
    }
   ],
   "source": [
    "data.describe()"
   ]
  },
  {
   "cell_type": "code",
   "execution_count": 17,
   "metadata": {
    "collapsed": false
   },
   "outputs": [],
   "source": [
    "corr = data.corr()"
   ]
  },
  {
   "cell_type": "code",
   "execution_count": 18,
   "metadata": {
    "collapsed": false
   },
   "outputs": [
    {
     "data": {
      "text/html": [
       "<div>\n",
       "<table border=\"1\" class=\"dataframe\">\n",
       "  <thead>\n",
       "    <tr style=\"text-align: right;\">\n",
       "      <th></th>\n",
       "      <th>Store Number</th>\n",
       "      <th>Category</th>\n",
       "      <th>Vendor Number</th>\n",
       "      <th>Bottle Volume (ml)</th>\n",
       "      <th>State Bottle Cost</th>\n",
       "      <th>State Bottle Retail</th>\n",
       "      <th>Bottles Sold</th>\n",
       "      <th>Sale (Dollars)</th>\n",
       "      <th>Volume Sold (Liters)</th>\n",
       "      <th>Volume Sold (Gallons)</th>\n",
       "    </tr>\n",
       "  </thead>\n",
       "  <tbody>\n",
       "    <tr>\n",
       "      <th>Store Number</th>\n",
       "      <td>1.000000</td>\n",
       "      <td>-0.012263</td>\n",
       "      <td>-0.005079</td>\n",
       "      <td>-0.062526</td>\n",
       "      <td>-0.071294</td>\n",
       "      <td>-0.071430</td>\n",
       "      <td>0.014662</td>\n",
       "      <td>-0.017750</td>\n",
       "      <td>-0.017375</td>\n",
       "      <td>-0.017364</td>\n",
       "    </tr>\n",
       "    <tr>\n",
       "      <th>Category</th>\n",
       "      <td>-0.012263</td>\n",
       "      <td>1.000000</td>\n",
       "      <td>0.091512</td>\n",
       "      <td>-0.009055</td>\n",
       "      <td>-0.013571</td>\n",
       "      <td>-0.013758</td>\n",
       "      <td>-0.000080</td>\n",
       "      <td>0.006542</td>\n",
       "      <td>-0.004192</td>\n",
       "      <td>-0.004183</td>\n",
       "    </tr>\n",
       "    <tr>\n",
       "      <th>Vendor Number</th>\n",
       "      <td>-0.005079</td>\n",
       "      <td>0.091512</td>\n",
       "      <td>1.000000</td>\n",
       "      <td>0.025909</td>\n",
       "      <td>0.003616</td>\n",
       "      <td>0.003223</td>\n",
       "      <td>-0.002303</td>\n",
       "      <td>-0.012361</td>\n",
       "      <td>-0.007254</td>\n",
       "      <td>-0.007250</td>\n",
       "    </tr>\n",
       "    <tr>\n",
       "      <th>Bottle Volume (ml)</th>\n",
       "      <td>-0.062526</td>\n",
       "      <td>-0.009055</td>\n",
       "      <td>0.025909</td>\n",
       "      <td>1.000000</td>\n",
       "      <td>0.312930</td>\n",
       "      <td>0.313911</td>\n",
       "      <td>-0.012183</td>\n",
       "      <td>0.082553</td>\n",
       "      <td>0.156141</td>\n",
       "      <td>0.155973</td>\n",
       "    </tr>\n",
       "    <tr>\n",
       "      <th>State Bottle Cost</th>\n",
       "      <td>-0.071294</td>\n",
       "      <td>-0.013571</td>\n",
       "      <td>0.003616</td>\n",
       "      <td>0.312930</td>\n",
       "      <td>1.000000</td>\n",
       "      <td>0.999960</td>\n",
       "      <td>-0.062832</td>\n",
       "      <td>0.135770</td>\n",
       "      <td>0.009301</td>\n",
       "      <td>0.009270</td>\n",
       "    </tr>\n",
       "    <tr>\n",
       "      <th>State Bottle Retail</th>\n",
       "      <td>-0.071430</td>\n",
       "      <td>-0.013758</td>\n",
       "      <td>0.003223</td>\n",
       "      <td>0.313911</td>\n",
       "      <td>0.999960</td>\n",
       "      <td>1.000000</td>\n",
       "      <td>-0.062684</td>\n",
       "      <td>0.135954</td>\n",
       "      <td>0.009742</td>\n",
       "      <td>0.009711</td>\n",
       "    </tr>\n",
       "    <tr>\n",
       "      <th>Bottles Sold</th>\n",
       "      <td>0.014662</td>\n",
       "      <td>-0.000080</td>\n",
       "      <td>-0.002303</td>\n",
       "      <td>-0.012183</td>\n",
       "      <td>-0.062832</td>\n",
       "      <td>-0.062684</td>\n",
       "      <td>1.000000</td>\n",
       "      <td>0.825912</td>\n",
       "      <td>0.883972</td>\n",
       "      <td>0.884002</td>\n",
       "    </tr>\n",
       "    <tr>\n",
       "      <th>Sale (Dollars)</th>\n",
       "      <td>-0.017750</td>\n",
       "      <td>0.006542</td>\n",
       "      <td>-0.012361</td>\n",
       "      <td>0.082553</td>\n",
       "      <td>0.135770</td>\n",
       "      <td>0.135954</td>\n",
       "      <td>0.825912</td>\n",
       "      <td>1.000000</td>\n",
       "      <td>0.846373</td>\n",
       "      <td>0.846385</td>\n",
       "    </tr>\n",
       "    <tr>\n",
       "      <th>Volume Sold (Liters)</th>\n",
       "      <td>-0.017375</td>\n",
       "      <td>-0.004192</td>\n",
       "      <td>-0.007254</td>\n",
       "      <td>0.156141</td>\n",
       "      <td>0.009301</td>\n",
       "      <td>0.009742</td>\n",
       "      <td>0.883972</td>\n",
       "      <td>0.846373</td>\n",
       "      <td>1.000000</td>\n",
       "      <td>1.000000</td>\n",
       "    </tr>\n",
       "    <tr>\n",
       "      <th>Volume Sold (Gallons)</th>\n",
       "      <td>-0.017364</td>\n",
       "      <td>-0.004183</td>\n",
       "      <td>-0.007250</td>\n",
       "      <td>0.155973</td>\n",
       "      <td>0.009270</td>\n",
       "      <td>0.009711</td>\n",
       "      <td>0.884002</td>\n",
       "      <td>0.846385</td>\n",
       "      <td>1.000000</td>\n",
       "      <td>1.000000</td>\n",
       "    </tr>\n",
       "  </tbody>\n",
       "</table>\n",
       "</div>"
      ],
      "text/plain": [
       "                       Store Number  Category  Vendor Number  \\\n",
       "Store Number               1.000000 -0.012263      -0.005079   \n",
       "Category                  -0.012263  1.000000       0.091512   \n",
       "Vendor Number             -0.005079  0.091512       1.000000   \n",
       "Bottle Volume (ml)        -0.062526 -0.009055       0.025909   \n",
       "State Bottle Cost         -0.071294 -0.013571       0.003616   \n",
       "State Bottle Retail       -0.071430 -0.013758       0.003223   \n",
       "Bottles Sold               0.014662 -0.000080      -0.002303   \n",
       "Sale (Dollars)            -0.017750  0.006542      -0.012361   \n",
       "Volume Sold (Liters)      -0.017375 -0.004192      -0.007254   \n",
       "Volume Sold (Gallons)     -0.017364 -0.004183      -0.007250   \n",
       "\n",
       "                       Bottle Volume (ml)  State Bottle Cost  \\\n",
       "Store Number                    -0.062526          -0.071294   \n",
       "Category                        -0.009055          -0.013571   \n",
       "Vendor Number                    0.025909           0.003616   \n",
       "Bottle Volume (ml)               1.000000           0.312930   \n",
       "State Bottle Cost                0.312930           1.000000   \n",
       "State Bottle Retail              0.313911           0.999960   \n",
       "Bottles Sold                    -0.012183          -0.062832   \n",
       "Sale (Dollars)                   0.082553           0.135770   \n",
       "Volume Sold (Liters)             0.156141           0.009301   \n",
       "Volume Sold (Gallons)            0.155973           0.009270   \n",
       "\n",
       "                       State Bottle Retail  Bottles Sold  Sale (Dollars)  \\\n",
       "Store Number                     -0.071430      0.014662       -0.017750   \n",
       "Category                         -0.013758     -0.000080        0.006542   \n",
       "Vendor Number                     0.003223     -0.002303       -0.012361   \n",
       "Bottle Volume (ml)                0.313911     -0.012183        0.082553   \n",
       "State Bottle Cost                 0.999960     -0.062832        0.135770   \n",
       "State Bottle Retail               1.000000     -0.062684        0.135954   \n",
       "Bottles Sold                     -0.062684      1.000000        0.825912   \n",
       "Sale (Dollars)                    0.135954      0.825912        1.000000   \n",
       "Volume Sold (Liters)              0.009742      0.883972        0.846373   \n",
       "Volume Sold (Gallons)             0.009711      0.884002        0.846385   \n",
       "\n",
       "                       Volume Sold (Liters)  Volume Sold (Gallons)  \n",
       "Store Number                      -0.017375              -0.017364  \n",
       "Category                          -0.004192              -0.004183  \n",
       "Vendor Number                     -0.007254              -0.007250  \n",
       "Bottle Volume (ml)                 0.156141               0.155973  \n",
       "State Bottle Cost                  0.009301               0.009270  \n",
       "State Bottle Retail                0.009742               0.009711  \n",
       "Bottles Sold                       0.883972               0.884002  \n",
       "Sale (Dollars)                     0.846373               0.846385  \n",
       "Volume Sold (Liters)               1.000000               1.000000  \n",
       "Volume Sold (Gallons)              1.000000               1.000000  "
      ]
     },
     "execution_count": 18,
     "metadata": {},
     "output_type": "execute_result"
    }
   ],
   "source": [
    "corr"
   ]
  },
  {
   "cell_type": "code",
   "execution_count": 19,
   "metadata": {
    "collapsed": false
   },
   "outputs": [
    {
     "data": {
      "text/plain": [
       "<matplotlib.axes._subplots.AxesSubplot at 0x117926e10>"
      ]
     },
     "execution_count": 19,
     "metadata": {},
     "output_type": "execute_result"
    },
    {
     "data": {
      "image/png": "[encoded data removed]",
      "text/plain": [
       "<matplotlib.figure.Figure at 0x11be96f10>"
      ]
     },
     "metadata": {},
     "output_type": "display_data"
    }
   ],
   "source": [
    "plt.figure(figsize=(10,10))\n",
    "sns.heatmap(corr,annot=True)"
   ]
  },
  {
   "cell_type": "code",
   "execution_count": 20,
   "metadata": {
    "collapsed": false
   },
   "outputs": [
    {
     "data": {
      "text/html": [
       "<div>\n",
       "<table border=\"1\" class=\"dataframe\">\n",
       "  <thead>\n",
       "    <tr style=\"text-align: right;\">\n",
       "      <th></th>\n",
       "      <th>Date</th>\n",
       "      <th>Store Number</th>\n",
       "      <th>City</th>\n",
       "      <th>Zip Code</th>\n",
       "      <th>County</th>\n",
       "      <th>Category</th>\n",
       "      <th>Category Name</th>\n",
       "      <th>Vendor Number</th>\n",
       "      <th>Item Description</th>\n",
       "      <th>Bottle Volume (ml)</th>\n",
       "      <th>State Bottle Cost</th>\n",
       "      <th>State Bottle Retail</th>\n",
       "      <th>Bottles Sold</th>\n",
       "      <th>Sale (Dollars)</th>\n",
       "      <th>Volume Sold (Liters)</th>\n",
       "      <th>Volume Sold (Gallons)</th>\n",
       "    </tr>\n",
       "  </thead>\n",
       "  <tbody>\n",
       "    <tr>\n",
       "      <th>0</th>\n",
       "      <td>2015-11-04</td>\n",
       "      <td>3717</td>\n",
       "      <td>SUMNER</td>\n",
       "      <td>50674</td>\n",
       "      <td>Bremer</td>\n",
       "      <td>1051100</td>\n",
       "      <td>APRICOT BRANDIES</td>\n",
       "      <td>55</td>\n",
       "      <td>Mr. Boston Apricot Brandy</td>\n",
       "      <td>750</td>\n",
       "      <td>4.50</td>\n",
       "      <td>6.75</td>\n",
       "      <td>12</td>\n",
       "      <td>81.00</td>\n",
       "      <td>9.0</td>\n",
       "      <td>2.38</td>\n",
       "    </tr>\n",
       "    <tr>\n",
       "      <th>1</th>\n",
       "      <td>2016-03-02</td>\n",
       "      <td>2614</td>\n",
       "      <td>DAVENPORT</td>\n",
       "      <td>52807</td>\n",
       "      <td>Scott</td>\n",
       "      <td>1011100</td>\n",
       "      <td>BLENDED WHISKIES</td>\n",
       "      <td>395</td>\n",
       "      <td>Tin Cup</td>\n",
       "      <td>750</td>\n",
       "      <td>13.75</td>\n",
       "      <td>20.63</td>\n",
       "      <td>2</td>\n",
       "      <td>41.26</td>\n",
       "      <td>1.5</td>\n",
       "      <td>0.40</td>\n",
       "    </tr>\n",
       "    <tr>\n",
       "      <th>2</th>\n",
       "      <td>2016-02-11</td>\n",
       "      <td>2106</td>\n",
       "      <td>CEDAR FALLS</td>\n",
       "      <td>50613</td>\n",
       "      <td>Black Hawk</td>\n",
       "      <td>1011200</td>\n",
       "      <td>STRAIGHT BOURBON WHISKIES</td>\n",
       "      <td>65</td>\n",
       "      <td>Jim Beam</td>\n",
       "      <td>1000</td>\n",
       "      <td>12.59</td>\n",
       "      <td>18.89</td>\n",
       "      <td>24</td>\n",
       "      <td>453.36</td>\n",
       "      <td>24.0</td>\n",
       "      <td>6.34</td>\n",
       "    </tr>\n",
       "    <tr>\n",
       "      <th>3</th>\n",
       "      <td>2016-02-03</td>\n",
       "      <td>2501</td>\n",
       "      <td>AMES</td>\n",
       "      <td>50010</td>\n",
       "      <td>Story</td>\n",
       "      <td>1071100</td>\n",
       "      <td>AMERICAN COCKTAILS</td>\n",
       "      <td>395</td>\n",
       "      <td>1800 Ultimate Margarita</td>\n",
       "      <td>1750</td>\n",
       "      <td>9.50</td>\n",
       "      <td>14.25</td>\n",
       "      <td>6</td>\n",
       "      <td>85.50</td>\n",
       "      <td>10.5</td>\n",
       "      <td>2.77</td>\n",
       "    </tr>\n",
       "    <tr>\n",
       "      <th>4</th>\n",
       "      <td>2015-08-18</td>\n",
       "      <td>3654</td>\n",
       "      <td>BELMOND</td>\n",
       "      <td>50421</td>\n",
       "      <td>Wright</td>\n",
       "      <td>1031080</td>\n",
       "      <td>VODKA 80 PROOF</td>\n",
       "      <td>297</td>\n",
       "      <td>Five O'clock Vodka</td>\n",
       "      <td>1750</td>\n",
       "      <td>7.20</td>\n",
       "      <td>10.80</td>\n",
       "      <td>12</td>\n",
       "      <td>129.60</td>\n",
       "      <td>21.0</td>\n",
       "      <td>5.55</td>\n",
       "    </tr>\n",
       "  </tbody>\n",
       "</table>\n",
       "</div>"
      ],
      "text/plain": [
       "        Date  Store Number         City Zip Code      County  Category  \\\n",
       "0 2015-11-04          3717       SUMNER    50674      Bremer   1051100   \n",
       "1 2016-03-02          2614    DAVENPORT    52807       Scott   1011100   \n",
       "2 2016-02-11          2106  CEDAR FALLS    50613  Black Hawk   1011200   \n",
       "3 2016-02-03          2501         AMES    50010       Story   1071100   \n",
       "4 2015-08-18          3654      BELMOND    50421      Wright   1031080   \n",
       "\n",
       "               Category Name  Vendor Number           Item Description  \\\n",
       "0           APRICOT BRANDIES             55  Mr. Boston Apricot Brandy   \n",
       "1           BLENDED WHISKIES            395                    Tin Cup   \n",
       "2  STRAIGHT BOURBON WHISKIES             65                   Jim Beam   \n",
       "3         AMERICAN COCKTAILS            395    1800 Ultimate Margarita   \n",
       "4             VODKA 80 PROOF            297         Five O'clock Vodka   \n",
       "\n",
       "   Bottle Volume (ml)  State Bottle Cost  State Bottle Retail  Bottles Sold  \\\n",
       "0                 750               4.50                 6.75            12   \n",
       "1                 750              13.75                20.63             2   \n",
       "2                1000              12.59                18.89            24   \n",
       "3                1750               9.50                14.25             6   \n",
       "4                1750               7.20                10.80            12   \n",
       "\n",
       "   Sale (Dollars)  Volume Sold (Liters)  Volume Sold (Gallons)  \n",
       "0           81.00                   9.0                   2.38  \n",
       "1           41.26                   1.5                   0.40  \n",
       "2          453.36                  24.0                   6.34  \n",
       "3           85.50                  10.5                   2.77  \n",
       "4          129.60                  21.0                   5.55  "
      ]
     },
     "execution_count": 20,
     "metadata": {},
     "output_type": "execute_result"
    }
   ],
   "source": [
    "data.head()"
   ]
  },
  {
   "cell_type": "code",
   "execution_count": 21,
   "metadata": {
    "collapsed": true
   },
   "outputs": [],
   "source": [
    "# Cleaned CSV\n",
    "data.to_csv('Iowa_Liquor_sales_sample_10pct-cleaned.csv')"
   ]
  },
  {
   "cell_type": "code",
   "execution_count": 22,
   "metadata": {
    "collapsed": false,
    "scrolled": false
   },
   "outputs": [
    {
     "name": "stdout",
     "output_type": "stream",
     "text": [
      "/Users/isaacmoore/Google Drive/data_science/general_assembly/Projects/DSI_SM_Project3\r\n"
     ]
    }
   ],
   "source": [
    "!pwd"
   ]
  },
  {
   "cell_type": "code",
   "execution_count": 23,
   "metadata": {
    "collapsed": false
   },
   "outputs": [
    {
     "name": "stdout",
     "output_type": "stream",
     "text": [
      "Iowa_Liquor_sales_sample_10pct-cleaned.csv\r\n",
      "Iowa_Liquor_sales_sample_10pct.csv\r\n",
      "Project 3-isaacmoore.ipynb\r\n",
      "readme.md\r\n"
     ]
    }
   ],
   "source": [
    "!ls"
   ]
  },
  {
   "cell_type": "markdown",
   "metadata": {},
   "source": [
    "# Mine the data\n",
    "Now you are ready to compute the variables you will use for your regression from the data. For example, you may want to\n",
    "compute total sales per store from Jan to March of 2015, mean price per bottle, etc. Refer to the readme for more ideas appropriate to your scenario.\n",
    "\n",
    "Pandas is your friend for this task. Take a look at the operations [here](http://pandas.pydata.org/pandas-docs/stable/groupby.html) for ideas on how to make the best use of pandas and feel free to search for blog and Stack Overflow posts to help you group data by certain variables and compute sums, means, etc. You may find it useful to create a new data frame to house this summary data."
   ]
  },
  {
   "cell_type": "code",
   "execution_count": 24,
   "metadata": {
    "collapsed": true
   },
   "outputs": [],
   "source": [
    "exdata = data"
   ]
  },
  {
   "cell_type": "code",
   "execution_count": 25,
   "metadata": {
    "collapsed": false
   },
   "outputs": [
    {
     "data": {
      "text/html": [
       "<div>\n",
       "<table border=\"1\" class=\"dataframe\">\n",
       "  <thead>\n",
       "    <tr style=\"text-align: right;\">\n",
       "      <th></th>\n",
       "      <th>Date</th>\n",
       "      <th>Store Number</th>\n",
       "      <th>City</th>\n",
       "      <th>Zip Code</th>\n",
       "      <th>County</th>\n",
       "      <th>Category</th>\n",
       "      <th>Category Name</th>\n",
       "      <th>Vendor Number</th>\n",
       "      <th>Item Description</th>\n",
       "      <th>Bottle Volume (ml)</th>\n",
       "      <th>State Bottle Cost</th>\n",
       "      <th>State Bottle Retail</th>\n",
       "      <th>Bottles Sold</th>\n",
       "      <th>Sale (Dollars)</th>\n",
       "      <th>Volume Sold (Liters)</th>\n",
       "      <th>Volume Sold (Gallons)</th>\n",
       "    </tr>\n",
       "  </thead>\n",
       "  <tbody>\n",
       "    <tr>\n",
       "      <th>0</th>\n",
       "      <td>2015-11-04</td>\n",
       "      <td>3717</td>\n",
       "      <td>SUMNER</td>\n",
       "      <td>50674</td>\n",
       "      <td>Bremer</td>\n",
       "      <td>1051100</td>\n",
       "      <td>APRICOT BRANDIES</td>\n",
       "      <td>55</td>\n",
       "      <td>Mr. Boston Apricot Brandy</td>\n",
       "      <td>750</td>\n",
       "      <td>4.50</td>\n",
       "      <td>6.75</td>\n",
       "      <td>12</td>\n",
       "      <td>81.00</td>\n",
       "      <td>9.00</td>\n",
       "      <td>2.38</td>\n",
       "    </tr>\n",
       "    <tr>\n",
       "      <th>4</th>\n",
       "      <td>2015-08-18</td>\n",
       "      <td>3654</td>\n",
       "      <td>BELMOND</td>\n",
       "      <td>50421</td>\n",
       "      <td>Wright</td>\n",
       "      <td>1031080</td>\n",
       "      <td>VODKA 80 PROOF</td>\n",
       "      <td>297</td>\n",
       "      <td>Five O'clock Vodka</td>\n",
       "      <td>1750</td>\n",
       "      <td>7.20</td>\n",
       "      <td>10.80</td>\n",
       "      <td>12</td>\n",
       "      <td>129.60</td>\n",
       "      <td>21.00</td>\n",
       "      <td>5.55</td>\n",
       "    </tr>\n",
       "    <tr>\n",
       "      <th>5</th>\n",
       "      <td>2015-04-20</td>\n",
       "      <td>2569</td>\n",
       "      <td>CEDAR RAPIDS</td>\n",
       "      <td>52402</td>\n",
       "      <td>Linn</td>\n",
       "      <td>1041100</td>\n",
       "      <td>AMERICAN DRY GINS</td>\n",
       "      <td>205</td>\n",
       "      <td>New Amsterdam Gin</td>\n",
       "      <td>1750</td>\n",
       "      <td>13.32</td>\n",
       "      <td>19.98</td>\n",
       "      <td>6</td>\n",
       "      <td>119.88</td>\n",
       "      <td>10.50</td>\n",
       "      <td>2.77</td>\n",
       "    </tr>\n",
       "    <tr>\n",
       "      <th>6</th>\n",
       "      <td>2015-08-05</td>\n",
       "      <td>2596</td>\n",
       "      <td>OTTUMWA</td>\n",
       "      <td>52501</td>\n",
       "      <td>Wapello</td>\n",
       "      <td>1051010</td>\n",
       "      <td>AMERICAN GRAPE BRANDIES</td>\n",
       "      <td>85</td>\n",
       "      <td>Korbel Brandy</td>\n",
       "      <td>750</td>\n",
       "      <td>6.66</td>\n",
       "      <td>9.99</td>\n",
       "      <td>3</td>\n",
       "      <td>29.97</td>\n",
       "      <td>2.25</td>\n",
       "      <td>0.59</td>\n",
       "    </tr>\n",
       "    <tr>\n",
       "      <th>7</th>\n",
       "      <td>2015-06-25</td>\n",
       "      <td>3456</td>\n",
       "      <td>CLEAR LAKE</td>\n",
       "      <td>50428</td>\n",
       "      <td>Cerro Gordo</td>\n",
       "      <td>1012100</td>\n",
       "      <td>CANADIAN WHISKIES</td>\n",
       "      <td>65</td>\n",
       "      <td>Canadian Club Whisky</td>\n",
       "      <td>1750</td>\n",
       "      <td>15.75</td>\n",
       "      <td>23.63</td>\n",
       "      <td>2</td>\n",
       "      <td>47.26</td>\n",
       "      <td>3.50</td>\n",
       "      <td>0.92</td>\n",
       "    </tr>\n",
       "  </tbody>\n",
       "</table>\n",
       "</div>"
      ],
      "text/plain": [
       "        Date  Store Number          City Zip Code       County  Category  \\\n",
       "0 2015-11-04          3717        SUMNER    50674       Bremer   1051100   \n",
       "4 2015-08-18          3654       BELMOND    50421       Wright   1031080   \n",
       "5 2015-04-20          2569  CEDAR RAPIDS    52402         Linn   1041100   \n",
       "6 2015-08-05          2596       OTTUMWA    52501      Wapello   1051010   \n",
       "7 2015-06-25          3456    CLEAR LAKE    50428  Cerro Gordo   1012100   \n",
       "\n",
       "             Category Name  Vendor Number           Item Description  \\\n",
       "0         APRICOT BRANDIES             55  Mr. Boston Apricot Brandy   \n",
       "4           VODKA 80 PROOF            297         Five O'clock Vodka   \n",
       "5        AMERICAN DRY GINS            205          New Amsterdam Gin   \n",
       "6  AMERICAN GRAPE BRANDIES             85              Korbel Brandy   \n",
       "7        CANADIAN WHISKIES             65       Canadian Club Whisky   \n",
       "\n",
       "   Bottle Volume (ml)  State Bottle Cost  State Bottle Retail  Bottles Sold  \\\n",
       "0                 750               4.50                 6.75            12   \n",
       "4                1750               7.20                10.80            12   \n",
       "5                1750              13.32                19.98             6   \n",
       "6                 750               6.66                 9.99             3   \n",
       "7                1750              15.75                23.63             2   \n",
       "\n",
       "   Sale (Dollars)  Volume Sold (Liters)  Volume Sold (Gallons)  \n",
       "0           81.00                  9.00                   2.38  \n",
       "4          129.60                 21.00                   5.55  \n",
       "5          119.88                 10.50                   2.77  \n",
       "6           29.97                  2.25                   0.59  \n",
       "7           47.26                  3.50                   0.92  "
      ]
     },
     "execution_count": 25,
     "metadata": {},
     "output_type": "execute_result"
    }
   ],
   "source": [
    "# 2015 Sales\n",
    "start_date = pd.Timestamp(\"20150101\")\n",
    "end_date = pd.Timestamp(\"20151231\")\n",
    "mask = (exdata['Date'] >= start_date) & (exdata['Date'] <= end_date)\n",
    "sales_2015 = exdata[mask]\n",
    "sales_2015.head()"
   ]
  },
  {
   "cell_type": "code",
   "execution_count": 26,
   "metadata": {
    "collapsed": false
   },
   "outputs": [
    {
     "data": {
      "text/html": [
       "<div>\n",
       "<table border=\"1\" class=\"dataframe\">\n",
       "  <thead>\n",
       "    <tr style=\"text-align: right;\">\n",
       "      <th></th>\n",
       "      <th>Sale (Dollars)</th>\n",
       "    </tr>\n",
       "    <tr>\n",
       "      <th>Store Number</th>\n",
       "      <th></th>\n",
       "    </tr>\n",
       "  </thead>\n",
       "  <tbody>\n",
       "    <tr>\n",
       "      <th>2106</th>\n",
       "      <td>146038.70</td>\n",
       "    </tr>\n",
       "    <tr>\n",
       "      <th>2113</th>\n",
       "      <td>9310.22</td>\n",
       "    </tr>\n",
       "    <tr>\n",
       "      <th>2130</th>\n",
       "      <td>111583.91</td>\n",
       "    </tr>\n",
       "    <tr>\n",
       "      <th>2152</th>\n",
       "      <td>7721.08</td>\n",
       "    </tr>\n",
       "    <tr>\n",
       "      <th>2178</th>\n",
       "      <td>24324.18</td>\n",
       "    </tr>\n",
       "  </tbody>\n",
       "</table>\n",
       "</div>"
      ],
      "text/plain": [
       "              Sale (Dollars)\n",
       "Store Number                \n",
       "2106               146038.70\n",
       "2113                 9310.22\n",
       "2130               111583.91\n",
       "2152                 7721.08\n",
       "2178                24324.18"
      ]
     },
     "execution_count": 26,
     "metadata": {},
     "output_type": "execute_result"
    }
   ],
   "source": [
    "store_sales_2015 = pd.pivot_table(sales_2015, index='Store Number', values='Sale (Dollars)', aggfunc=np.sum)\n",
    "store_sales_2015 = pd.DataFrame(store_sales_2015)\n",
    "store_sales_2015.head()"
   ]
  },
  {
   "cell_type": "code",
   "execution_count": 27,
   "metadata": {
    "collapsed": false,
    "scrolled": true
   },
   "outputs": [
    {
     "data": {
      "text/html": [
       "<div>\n",
       "<table border=\"1\" class=\"dataframe\">\n",
       "  <thead>\n",
       "    <tr style=\"text-align: right;\">\n",
       "      <th></th>\n",
       "      <th>Date</th>\n",
       "      <th>Store Number</th>\n",
       "      <th>City</th>\n",
       "      <th>Zip Code</th>\n",
       "      <th>County</th>\n",
       "      <th>Category</th>\n",
       "      <th>Category Name</th>\n",
       "      <th>Vendor Number</th>\n",
       "      <th>Item Description</th>\n",
       "      <th>Bottle Volume (ml)</th>\n",
       "      <th>State Bottle Cost</th>\n",
       "      <th>State Bottle Retail</th>\n",
       "      <th>Bottles Sold</th>\n",
       "      <th>Sale (Dollars)</th>\n",
       "      <th>Volume Sold (Liters)</th>\n",
       "      <th>Volume Sold (Gallons)</th>\n",
       "    </tr>\n",
       "  </thead>\n",
       "  <tbody>\n",
       "    <tr>\n",
       "      <th>1</th>\n",
       "      <td>2016-03-02</td>\n",
       "      <td>2614</td>\n",
       "      <td>DAVENPORT</td>\n",
       "      <td>52807</td>\n",
       "      <td>Scott</td>\n",
       "      <td>1011100</td>\n",
       "      <td>BLENDED WHISKIES</td>\n",
       "      <td>395</td>\n",
       "      <td>Tin Cup</td>\n",
       "      <td>750</td>\n",
       "      <td>13.75</td>\n",
       "      <td>20.63</td>\n",
       "      <td>2</td>\n",
       "      <td>41.26</td>\n",
       "      <td>1.5</td>\n",
       "      <td>0.40</td>\n",
       "    </tr>\n",
       "    <tr>\n",
       "      <th>2</th>\n",
       "      <td>2016-02-11</td>\n",
       "      <td>2106</td>\n",
       "      <td>CEDAR FALLS</td>\n",
       "      <td>50613</td>\n",
       "      <td>Black Hawk</td>\n",
       "      <td>1011200</td>\n",
       "      <td>STRAIGHT BOURBON WHISKIES</td>\n",
       "      <td>65</td>\n",
       "      <td>Jim Beam</td>\n",
       "      <td>1000</td>\n",
       "      <td>12.59</td>\n",
       "      <td>18.89</td>\n",
       "      <td>24</td>\n",
       "      <td>453.36</td>\n",
       "      <td>24.0</td>\n",
       "      <td>6.34</td>\n",
       "    </tr>\n",
       "    <tr>\n",
       "      <th>3</th>\n",
       "      <td>2016-02-03</td>\n",
       "      <td>2501</td>\n",
       "      <td>AMES</td>\n",
       "      <td>50010</td>\n",
       "      <td>Story</td>\n",
       "      <td>1071100</td>\n",
       "      <td>AMERICAN COCKTAILS</td>\n",
       "      <td>395</td>\n",
       "      <td>1800 Ultimate Margarita</td>\n",
       "      <td>1750</td>\n",
       "      <td>9.50</td>\n",
       "      <td>14.25</td>\n",
       "      <td>6</td>\n",
       "      <td>85.50</td>\n",
       "      <td>10.5</td>\n",
       "      <td>2.77</td>\n",
       "    </tr>\n",
       "    <tr>\n",
       "      <th>8</th>\n",
       "      <td>2016-01-04</td>\n",
       "      <td>4757</td>\n",
       "      <td>BONDURANT</td>\n",
       "      <td>50035</td>\n",
       "      <td>Polk</td>\n",
       "      <td>1032080</td>\n",
       "      <td>IMPORTED VODKA</td>\n",
       "      <td>370</td>\n",
       "      <td>Absolut Swedish Vodka 80 Prf</td>\n",
       "      <td>750</td>\n",
       "      <td>11.49</td>\n",
       "      <td>17.24</td>\n",
       "      <td>4</td>\n",
       "      <td>68.96</td>\n",
       "      <td>3.0</td>\n",
       "      <td>0.79</td>\n",
       "    </tr>\n",
       "    <tr>\n",
       "      <th>13</th>\n",
       "      <td>2016-02-29</td>\n",
       "      <td>4673</td>\n",
       "      <td>WEST POINT</td>\n",
       "      <td>52656</td>\n",
       "      <td>Lee</td>\n",
       "      <td>1081300</td>\n",
       "      <td>PEPPERMINT SCHNAPPS</td>\n",
       "      <td>322</td>\n",
       "      <td>Kinky Liqueur</td>\n",
       "      <td>750</td>\n",
       "      <td>10.00</td>\n",
       "      <td>15.00</td>\n",
       "      <td>12</td>\n",
       "      <td>180.00</td>\n",
       "      <td>9.0</td>\n",
       "      <td>2.38</td>\n",
       "    </tr>\n",
       "  </tbody>\n",
       "</table>\n",
       "</div>"
      ],
      "text/plain": [
       "         Date  Store Number         City Zip Code      County  Category  \\\n",
       "1  2016-03-02          2614    DAVENPORT    52807       Scott   1011100   \n",
       "2  2016-02-11          2106  CEDAR FALLS    50613  Black Hawk   1011200   \n",
       "3  2016-02-03          2501         AMES    50010       Story   1071100   \n",
       "8  2016-01-04          4757    BONDURANT    50035        Polk   1032080   \n",
       "13 2016-02-29          4673   WEST POINT    52656         Lee   1081300   \n",
       "\n",
       "                Category Name  Vendor Number              Item Description  \\\n",
       "1            BLENDED WHISKIES            395                       Tin Cup   \n",
       "2   STRAIGHT BOURBON WHISKIES             65                      Jim Beam   \n",
       "3          AMERICAN COCKTAILS            395       1800 Ultimate Margarita   \n",
       "8              IMPORTED VODKA            370  Absolut Swedish Vodka 80 Prf   \n",
       "13        PEPPERMINT SCHNAPPS            322                 Kinky Liqueur   \n",
       "\n",
       "    Bottle Volume (ml)  State Bottle Cost  State Bottle Retail  Bottles Sold  \\\n",
       "1                  750              13.75                20.63             2   \n",
       "2                 1000              12.59                18.89            24   \n",
       "3                 1750               9.50                14.25             6   \n",
       "8                  750              11.49                17.24             4   \n",
       "13                 750              10.00                15.00            12   \n",
       "\n",
       "    Sale (Dollars)  Volume Sold (Liters)  Volume Sold (Gallons)  \n",
       "1            41.26                   1.5                   0.40  \n",
       "2           453.36                  24.0                   6.34  \n",
       "3            85.50                  10.5                   2.77  \n",
       "8            68.96                   3.0                   0.79  \n",
       "13          180.00                   9.0                   2.38  "
      ]
     },
     "execution_count": 27,
     "metadata": {},
     "output_type": "execute_result"
    }
   ],
   "source": [
    "# 2016 Sales\n",
    "start_date = pd.Timestamp(\"20160101\")\n",
    "end_date = pd.Timestamp(\"20161231\")\n",
    "mask = (exdata['Date'] >= start_date) & (exdata['Date'] <= end_date)\n",
    "sales_2016 = exdata[mask]\n",
    "sales_2016.head()"
   ]
  },
  {
   "cell_type": "code",
   "execution_count": 28,
   "metadata": {
    "collapsed": false
   },
   "outputs": [
    {
     "data": {
      "text/html": [
       "<div>\n",
       "<table border=\"1\" class=\"dataframe\">\n",
       "  <thead>\n",
       "    <tr style=\"text-align: right;\">\n",
       "      <th></th>\n",
       "      <th>Sale (Dollars)</th>\n",
       "    </tr>\n",
       "    <tr>\n",
       "      <th>Store Number</th>\n",
       "      <th></th>\n",
       "    </tr>\n",
       "  </thead>\n",
       "  <tbody>\n",
       "    <tr>\n",
       "      <th>2106</th>\n",
       "      <td>30478.75</td>\n",
       "    </tr>\n",
       "    <tr>\n",
       "      <th>2113</th>\n",
       "      <td>2065.90</td>\n",
       "    </tr>\n",
       "    <tr>\n",
       "      <th>2130</th>\n",
       "      <td>27856.11</td>\n",
       "    </tr>\n",
       "    <tr>\n",
       "      <th>2152</th>\n",
       "      <td>904.66</td>\n",
       "    </tr>\n",
       "    <tr>\n",
       "      <th>2178</th>\n",
       "      <td>5588.50</td>\n",
       "    </tr>\n",
       "  </tbody>\n",
       "</table>\n",
       "</div>"
      ],
      "text/plain": [
       "              Sale (Dollars)\n",
       "Store Number                \n",
       "2106                30478.75\n",
       "2113                 2065.90\n",
       "2130                27856.11\n",
       "2152                  904.66\n",
       "2178                 5588.50"
      ]
     },
     "execution_count": 28,
     "metadata": {},
     "output_type": "execute_result"
    }
   ],
   "source": [
    "store_sales_2016 = pd.pivot_table(sales_2016, index='Store Number', values='Sale (Dollars)', aggfunc=np.sum)\n",
    "store_sales_2016 = pd.DataFrame(store_sales_2016)\n",
    "store_sales_2016.head()"
   ]
  },
  {
   "cell_type": "code",
   "execution_count": 29,
   "metadata": {
    "collapsed": false
   },
   "outputs": [
    {
     "data": {
      "text/plain": [
       "(1280, 1)"
      ]
     },
     "execution_count": 29,
     "metadata": {},
     "output_type": "execute_result"
    }
   ],
   "source": [
    "store_sales_2016.shape"
   ]
  },
  {
   "cell_type": "code",
   "execution_count": 30,
   "metadata": {
    "collapsed": false
   },
   "outputs": [
    {
     "data": {
      "text/html": [
       "<div>\n",
       "<table border=\"1\" class=\"dataframe\">\n",
       "  <thead>\n",
       "    <tr style=\"text-align: right;\">\n",
       "      <th></th>\n",
       "      <th>2015_sales</th>\n",
       "      <th>2016_sales</th>\n",
       "    </tr>\n",
       "    <tr>\n",
       "      <th>Store Number</th>\n",
       "      <th></th>\n",
       "      <th></th>\n",
       "    </tr>\n",
       "  </thead>\n",
       "  <tbody>\n",
       "    <tr>\n",
       "      <th>2106</th>\n",
       "      <td>146038.70</td>\n",
       "      <td>30478.75</td>\n",
       "    </tr>\n",
       "    <tr>\n",
       "      <th>2113</th>\n",
       "      <td>9310.22</td>\n",
       "      <td>2065.90</td>\n",
       "    </tr>\n",
       "    <tr>\n",
       "      <th>2130</th>\n",
       "      <td>111583.91</td>\n",
       "      <td>27856.11</td>\n",
       "    </tr>\n",
       "    <tr>\n",
       "      <th>2152</th>\n",
       "      <td>7721.08</td>\n",
       "      <td>904.66</td>\n",
       "    </tr>\n",
       "    <tr>\n",
       "      <th>2178</th>\n",
       "      <td>24324.18</td>\n",
       "      <td>5588.50</td>\n",
       "    </tr>\n",
       "  </tbody>\n",
       "</table>\n",
       "</div>"
      ],
      "text/plain": [
       "              2015_sales  2016_sales\n",
       "Store Number                        \n",
       "2106           146038.70    30478.75\n",
       "2113             9310.22     2065.90\n",
       "2130           111583.91    27856.11\n",
       "2152             7721.08      904.66\n",
       "2178            24324.18     5588.50"
      ]
     },
     "execution_count": 30,
     "metadata": {},
     "output_type": "execute_result"
    }
   ],
   "source": [
    "sales_1516 = pd.concat((store_sales_2015, store_sales_2016), axis = 1)\n",
    "sales_1516.columns = ['2015_sales', '2016_sales']\n",
    "sales_1516.head()"
   ]
  },
  {
   "cell_type": "code",
   "execution_count": 31,
   "metadata": {
    "collapsed": false
   },
   "outputs": [
    {
     "data": {
      "text/plain": [
       "2015_sales     6\n",
       "2016_sales    98\n",
       "dtype: int64"
      ]
     },
     "execution_count": 31,
     "metadata": {},
     "output_type": "execute_result"
    }
   ],
   "source": [
    "sales_1516.isnull().sum()"
   ]
  },
  {
   "cell_type": "code",
   "execution_count": 32,
   "metadata": {
    "collapsed": false
   },
   "outputs": [
    {
     "name": "stderr",
     "output_type": "stream",
     "text": [
      "/Users/isaacmoore/anaconda/lib/python2.7/site-packages/ipykernel/__main__.py:2: FutureWarning: sort(columns=....) is deprecated, use sort_values(by=.....)\n",
      "  from ipykernel import kernelapp as app\n"
     ]
    },
    {
     "data": {
      "text/html": [
       "<div>\n",
       "<table border=\"1\" class=\"dataframe\">\n",
       "  <thead>\n",
       "    <tr style=\"text-align: right;\">\n",
       "      <th></th>\n",
       "      <th>2015_sales</th>\n",
       "      <th>2016_sales</th>\n",
       "      <th>total</th>\n",
       "    </tr>\n",
       "    <tr>\n",
       "      <th>Store Number</th>\n",
       "      <th></th>\n",
       "      <th></th>\n",
       "      <th></th>\n",
       "    </tr>\n",
       "  </thead>\n",
       "  <tbody>\n",
       "    <tr>\n",
       "      <th>2633</th>\n",
       "      <td>997924.42</td>\n",
       "      <td>217474.60</td>\n",
       "      <td>1215399.02</td>\n",
       "    </tr>\n",
       "    <tr>\n",
       "      <th>4829</th>\n",
       "      <td>874664.18</td>\n",
       "      <td>207277.70</td>\n",
       "      <td>1081941.88</td>\n",
       "    </tr>\n",
       "    <tr>\n",
       "      <th>2512</th>\n",
       "      <td>419534.61</td>\n",
       "      <td>112149.81</td>\n",
       "      <td>531684.42</td>\n",
       "    </tr>\n",
       "    <tr>\n",
       "      <th>3385</th>\n",
       "      <td>439584.35</td>\n",
       "      <td>64472.88</td>\n",
       "      <td>504057.23</td>\n",
       "    </tr>\n",
       "    <tr>\n",
       "      <th>3420</th>\n",
       "      <td>348837.36</td>\n",
       "      <td>49187.88</td>\n",
       "      <td>398025.24</td>\n",
       "    </tr>\n",
       "  </tbody>\n",
       "</table>\n",
       "</div>"
      ],
      "text/plain": [
       "              2015_sales  2016_sales       total\n",
       "Store Number                                    \n",
       "2633           997924.42   217474.60  1215399.02\n",
       "4829           874664.18   207277.70  1081941.88\n",
       "2512           419534.61   112149.81   531684.42\n",
       "3385           439584.35    64472.88   504057.23\n",
       "3420           348837.36    49187.88   398025.24"
      ]
     },
     "execution_count": 32,
     "metadata": {},
     "output_type": "execute_result"
    }
   ],
   "source": [
    "sales_1516['total'] = sales_1516['2015_sales'] + sales_1516['2016_sales']\n",
    "sales_1516.sort('total', ascending=False).head()"
   ]
  },
  {
   "cell_type": "code",
   "execution_count": 33,
   "metadata": {
    "collapsed": false
   },
   "outputs": [
    {
     "name": "stderr",
     "output_type": "stream",
     "text": [
      "/Users/isaacmoore/anaconda/lib/python2.7/site-packages/ipykernel/__main__.py:4: FutureWarning: sort(columns=....) is deprecated, use sort_values(by=.....)\n",
      "/Users/isaacmoore/anaconda/lib/python2.7/site-packages/ipykernel/__main__.py:5: FutureWarning: sort(columns=....) is deprecated, use sort_values(by=.....)\n"
     ]
    },
    {
     "data": {
      "text/html": [
       "<div>\n",
       "<table border=\"1\" class=\"dataframe\">\n",
       "  <thead>\n",
       "    <tr style=\"text-align: right;\">\n",
       "      <th></th>\n",
       "      <th>Sale (Dollars)</th>\n",
       "    </tr>\n",
       "    <tr>\n",
       "      <th>County</th>\n",
       "      <th></th>\n",
       "    </tr>\n",
       "  </thead>\n",
       "  <tbody>\n",
       "    <tr>\n",
       "      <th>Polk</th>\n",
       "      <td>7747218.999999</td>\n",
       "    </tr>\n",
       "    <tr>\n",
       "      <th>Linn</th>\n",
       "      <td>3139999.480000</td>\n",
       "    </tr>\n",
       "    <tr>\n",
       "      <th>Scott</th>\n",
       "      <td>2457277.340000</td>\n",
       "    </tr>\n",
       "    <tr>\n",
       "      <th>Johnson</th>\n",
       "      <td>2077857.870000</td>\n",
       "    </tr>\n",
       "    <tr>\n",
       "      <th>Black Hawk</th>\n",
       "      <td>1928016.710000</td>\n",
       "    </tr>\n",
       "    <tr>\n",
       "      <th>Pottawattamie</th>\n",
       "      <td>1277581.170000</td>\n",
       "    </tr>\n",
       "    <tr>\n",
       "      <th>Woodbury</th>\n",
       "      <td>1249514.330000</td>\n",
       "    </tr>\n",
       "    <tr>\n",
       "      <th>Dubuque</th>\n",
       "      <td>1076389.240000</td>\n",
       "    </tr>\n",
       "    <tr>\n",
       "      <th>Story</th>\n",
       "      <td>1073666.430000</td>\n",
       "    </tr>\n",
       "    <tr>\n",
       "      <th>Cerro Gordo</th>\n",
       "      <td>694953.900000</td>\n",
       "    </tr>\n",
       "  </tbody>\n",
       "</table>\n",
       "</div>"
      ],
      "text/plain": [
       "               Sale (Dollars)\n",
       "County                       \n",
       "Polk           7747218.999999\n",
       "Linn           3139999.480000\n",
       "Scott          2457277.340000\n",
       "Johnson        2077857.870000\n",
       "Black Hawk     1928016.710000\n",
       "Pottawattamie  1277581.170000\n",
       "Woodbury       1249514.330000\n",
       "Dubuque        1076389.240000\n",
       "Story          1073666.430000\n",
       "Cerro Gordo     694953.900000"
      ]
     },
     "execution_count": 33,
     "metadata": {},
     "output_type": "execute_result"
    }
   ],
   "source": [
    "county_sales = pd.pivot_table(exdata, index = 'County', values = 'Sale (Dollars)', aggfunc=np.sum)\n",
    "\n",
    "county_sales = pd.DataFrame(county_sales)\n",
    "county_sales.sort('Sale (Dollars)', ascending=False)\n",
    "county_sales_10 = county_sales.sort('Sale (Dollars)', ascending = False).head(10)\n",
    "county_sales_10"
   ]
  },
  {
   "cell_type": "code",
   "execution_count": 34,
   "metadata": {
    "collapsed": false,
    "scrolled": false
   },
   "outputs": [
    {
     "data": {
      "text/plain": [
       "[<matplotlib.text.Text at 0x1187e3b90>]"
      ]
     },
     "execution_count": 34,
     "metadata": {},
     "output_type": "execute_result"
    },
    {
     "data": {
      "image/png": "[encoded data removed]",
      "text/plain": [
       "<matplotlib.figure.Figure at 0x11a09e3d0>"
      ]
     },
     "metadata": {},
     "output_type": "display_data"
    }
   ],
   "source": [
    "plt.figure(figsize=(15,10))\n",
    "sns.barplot(x=county_sales_10.index,y=county_sales_10['Sale (Dollars)'], color='b').set(title='Average Sales (Dollars) per County')"
   ]
  },
  {
   "cell_type": "code",
   "execution_count": 35,
   "metadata": {
    "collapsed": false
   },
   "outputs": [
    {
     "name": "stderr",
     "output_type": "stream",
     "text": [
      "/Users/isaacmoore/anaconda/lib/python2.7/site-packages/ipykernel/__main__.py:4: FutureWarning: sort(columns=....) is deprecated, use sort_values(by=.....)\n",
      "/Users/isaacmoore/anaconda/lib/python2.7/site-packages/ipykernel/__main__.py:5: FutureWarning: sort(columns=....) is deprecated, use sort_values(by=.....)\n"
     ]
    },
    {
     "data": {
      "text/html": [
       "<div>\n",
       "<table border=\"1\" class=\"dataframe\">\n",
       "  <thead>\n",
       "    <tr style=\"text-align: right;\">\n",
       "      <th></th>\n",
       "      <th>Volume Sold (Gallons)</th>\n",
       "    </tr>\n",
       "    <tr>\n",
       "      <th>County</th>\n",
       "      <th></th>\n",
       "    </tr>\n",
       "  </thead>\n",
       "  <tbody>\n",
       "    <tr>\n",
       "      <th>Polk</th>\n",
       "      <td>132747.24</td>\n",
       "    </tr>\n",
       "    <tr>\n",
       "      <th>Linn</th>\n",
       "      <td>57904.04</td>\n",
       "    </tr>\n",
       "    <tr>\n",
       "      <th>Scott</th>\n",
       "      <td>42884.84</td>\n",
       "    </tr>\n",
       "    <tr>\n",
       "      <th>Black Hawk</th>\n",
       "      <td>34864.58</td>\n",
       "    </tr>\n",
       "    <tr>\n",
       "      <th>Johnson</th>\n",
       "      <td>34247.45</td>\n",
       "    </tr>\n",
       "    <tr>\n",
       "      <th>Pottawattamie</th>\n",
       "      <td>22663.95</td>\n",
       "    </tr>\n",
       "    <tr>\n",
       "      <th>Woodbury</th>\n",
       "      <td>22285.55</td>\n",
       "    </tr>\n",
       "    <tr>\n",
       "      <th>Dubuque</th>\n",
       "      <td>20871.82</td>\n",
       "    </tr>\n",
       "    <tr>\n",
       "      <th>Story</th>\n",
       "      <td>19670.92</td>\n",
       "    </tr>\n",
       "    <tr>\n",
       "      <th>Cerro Gordo</th>\n",
       "      <td>13930.47</td>\n",
       "    </tr>\n",
       "  </tbody>\n",
       "</table>\n",
       "</div>"
      ],
      "text/plain": [
       "               Volume Sold (Gallons)\n",
       "County                              \n",
       "Polk                       132747.24\n",
       "Linn                        57904.04\n",
       "Scott                       42884.84\n",
       "Black Hawk                  34864.58\n",
       "Johnson                     34247.45\n",
       "Pottawattamie               22663.95\n",
       "Woodbury                    22285.55\n",
       "Dubuque                     20871.82\n",
       "Story                       19670.92\n",
       "Cerro Gordo                 13930.47"
      ]
     },
     "execution_count": 35,
     "metadata": {},
     "output_type": "execute_result"
    }
   ],
   "source": [
    "county_gal = pd.pivot_table(exdata, index = 'County', values = 'Volume Sold (Gallons)', aggfunc=np.sum)\n",
    "\n",
    "county_gal = pd.DataFrame(county_gal)\n",
    "county_gal.sort('Volume Sold (Gallons)', ascending=False)\n",
    "county_gal_10 = county_gal.sort('Volume Sold (Gallons)', ascending = False).head(10)\n",
    "county_gal_10"
   ]
  },
  {
   "cell_type": "code",
   "execution_count": 36,
   "metadata": {
    "collapsed": false,
    "scrolled": false
   },
   "outputs": [
    {
     "data": {
      "text/plain": [
       "[<matplotlib.text.Text at 0x119dd6750>]"
      ]
     },
     "execution_count": 36,
     "metadata": {},
     "output_type": "execute_result"
    },
    {
     "data": {
      "image/png": "[encoded data removed]",
      "text/plain": [
       "<matplotlib.figure.Figure at 0x11b265610>"
      ]
     },
     "metadata": {},
     "output_type": "display_data"
    }
   ],
   "source": [
    "plt.figure(figsize=(15,10))\n",
    "sns.barplot(x=county_gal_10.index,y=county_gal_10['Volume Sold (Gallons)'], color='b').set(title='Average Gallons sold per County')"
   ]
  },
  {
   "cell_type": "code",
   "execution_count": null,
   "metadata": {
    "collapsed": true
   },
   "outputs": [],
   "source": []
  },
  {
   "cell_type": "markdown",
   "metadata": {},
   "source": [
    "# Refine the data\n",
    "Look for any statistical relationships, correlations, or other relevant properties of the dataset."
   ]
  },
  {
   "cell_type": "code",
   "execution_count": 37,
   "metadata": {
    "collapsed": false,
    "scrolled": true
   },
   "outputs": [
    {
     "data": {
      "text/html": [
       "<div>\n",
       "<table border=\"1\" class=\"dataframe\">\n",
       "  <thead>\n",
       "    <tr style=\"text-align: right;\">\n",
       "      <th></th>\n",
       "      <th>Date</th>\n",
       "      <th>Store Number</th>\n",
       "      <th>City</th>\n",
       "      <th>Zip Code</th>\n",
       "      <th>County</th>\n",
       "      <th>Category</th>\n",
       "      <th>Category Name</th>\n",
       "      <th>Vendor Number</th>\n",
       "      <th>Item Description</th>\n",
       "      <th>Bottle Volume (ml)</th>\n",
       "      <th>State Bottle Cost</th>\n",
       "      <th>State Bottle Retail</th>\n",
       "      <th>Bottles Sold</th>\n",
       "      <th>Sale (Dollars)</th>\n",
       "      <th>Volume Sold (Liters)</th>\n",
       "      <th>Volume Sold (Gallons)</th>\n",
       "    </tr>\n",
       "  </thead>\n",
       "  <tbody>\n",
       "    <tr>\n",
       "      <th>8</th>\n",
       "      <td>2016-01-04</td>\n",
       "      <td>4757</td>\n",
       "      <td>BONDURANT</td>\n",
       "      <td>50035</td>\n",
       "      <td>Polk</td>\n",
       "      <td>1032080</td>\n",
       "      <td>IMPORTED VODKA</td>\n",
       "      <td>370</td>\n",
       "      <td>Absolut Swedish Vodka 80 Prf</td>\n",
       "      <td>750</td>\n",
       "      <td>11.49</td>\n",
       "      <td>17.24</td>\n",
       "      <td>4</td>\n",
       "      <td>68.96</td>\n",
       "      <td>3.0</td>\n",
       "      <td>0.79</td>\n",
       "    </tr>\n",
       "    <tr>\n",
       "      <th>10</th>\n",
       "      <td>2015-09-28</td>\n",
       "      <td>2648</td>\n",
       "      <td>WEST DES MOINES</td>\n",
       "      <td>50265</td>\n",
       "      <td>Polk</td>\n",
       "      <td>1011250</td>\n",
       "      <td>SINGLE BARREL BOURBON WHISKIES</td>\n",
       "      <td>65</td>\n",
       "      <td>Knob Creek Single Barrel Reserve</td>\n",
       "      <td>750</td>\n",
       "      <td>26.24</td>\n",
       "      <td>39.36</td>\n",
       "      <td>6</td>\n",
       "      <td>236.16</td>\n",
       "      <td>4.5</td>\n",
       "      <td>1.19</td>\n",
       "    </tr>\n",
       "    <tr>\n",
       "      <th>28</th>\n",
       "      <td>2015-12-01</td>\n",
       "      <td>4375</td>\n",
       "      <td>GRIMES</td>\n",
       "      <td>50111</td>\n",
       "      <td>Polk</td>\n",
       "      <td>1031080</td>\n",
       "      <td>VODKA 80 PROOF</td>\n",
       "      <td>380</td>\n",
       "      <td>UV Vodka PET</td>\n",
       "      <td>1750</td>\n",
       "      <td>10.99</td>\n",
       "      <td>16.49</td>\n",
       "      <td>6</td>\n",
       "      <td>98.94</td>\n",
       "      <td>10.5</td>\n",
       "      <td>2.77</td>\n",
       "    </tr>\n",
       "    <tr>\n",
       "      <th>35</th>\n",
       "      <td>2015-04-02</td>\n",
       "      <td>2626</td>\n",
       "      <td>DES MOINES</td>\n",
       "      <td>50311</td>\n",
       "      <td>Polk</td>\n",
       "      <td>1082900</td>\n",
       "      <td>MISC. IMPORTED CORDIALS &amp; LIQUEURS</td>\n",
       "      <td>192</td>\n",
       "      <td>Jagermeister Liqueur</td>\n",
       "      <td>375</td>\n",
       "      <td>6.52</td>\n",
       "      <td>9.78</td>\n",
       "      <td>4</td>\n",
       "      <td>39.12</td>\n",
       "      <td>1.5</td>\n",
       "      <td>0.40</td>\n",
       "    </tr>\n",
       "    <tr>\n",
       "      <th>36</th>\n",
       "      <td>2015-04-20</td>\n",
       "      <td>2532</td>\n",
       "      <td>DES MOINES</td>\n",
       "      <td>50317</td>\n",
       "      <td>Polk</td>\n",
       "      <td>1071100</td>\n",
       "      <td>AMERICAN COCKTAILS</td>\n",
       "      <td>285</td>\n",
       "      <td>Bartenders Hot Sex</td>\n",
       "      <td>1000</td>\n",
       "      <td>5.28</td>\n",
       "      <td>7.92</td>\n",
       "      <td>12</td>\n",
       "      <td>95.04</td>\n",
       "      <td>12.0</td>\n",
       "      <td>3.17</td>\n",
       "    </tr>\n",
       "  </tbody>\n",
       "</table>\n",
       "</div>"
      ],
      "text/plain": [
       "         Date  Store Number             City Zip Code County  Category  \\\n",
       "8  2016-01-04          4757        BONDURANT    50035   Polk   1032080   \n",
       "10 2015-09-28          2648  WEST DES MOINES    50265   Polk   1011250   \n",
       "28 2015-12-01          4375           GRIMES    50111   Polk   1031080   \n",
       "35 2015-04-02          2626       DES MOINES    50311   Polk   1082900   \n",
       "36 2015-04-20          2532       DES MOINES    50317   Polk   1071100   \n",
       "\n",
       "                         Category Name  Vendor Number  \\\n",
       "8                       IMPORTED VODKA            370   \n",
       "10      SINGLE BARREL BOURBON WHISKIES             65   \n",
       "28                      VODKA 80 PROOF            380   \n",
       "35  MISC. IMPORTED CORDIALS & LIQUEURS            192   \n",
       "36                  AMERICAN COCKTAILS            285   \n",
       "\n",
       "                    Item Description  Bottle Volume (ml)  State Bottle Cost  \\\n",
       "8       Absolut Swedish Vodka 80 Prf                 750              11.49   \n",
       "10  Knob Creek Single Barrel Reserve                 750              26.24   \n",
       "28                      UV Vodka PET                1750              10.99   \n",
       "35              Jagermeister Liqueur                 375               6.52   \n",
       "36                Bartenders Hot Sex                1000               5.28   \n",
       "\n",
       "    State Bottle Retail  Bottles Sold  Sale (Dollars)  Volume Sold (Liters)  \\\n",
       "8                 17.24             4           68.96                   3.0   \n",
       "10                39.36             6          236.16                   4.5   \n",
       "28                16.49             6           98.94                  10.5   \n",
       "35                 9.78             4           39.12                   1.5   \n",
       "36                 7.92            12           95.04                  12.0   \n",
       "\n",
       "    Volume Sold (Gallons)  \n",
       "8                    0.79  \n",
       "10                   1.19  \n",
       "28                   2.77  \n",
       "35                   0.40  \n",
       "36                   3.17  "
      ]
     },
     "execution_count": 37,
     "metadata": {},
     "output_type": "execute_result"
    }
   ],
   "source": [
    "polk = exdata[ exdata['County'] == 'Polk' ]\n",
    "polk.head()"
   ]
  },
  {
   "cell_type": "code",
   "execution_count": 38,
   "metadata": {
    "collapsed": false
   },
   "outputs": [
    {
     "data": {
      "text/html": [
       "<div>\n",
       "<table border=\"1\" class=\"dataframe\">\n",
       "  <thead>\n",
       "    <tr style=\"text-align: right;\">\n",
       "      <th></th>\n",
       "      <th>Store Number</th>\n",
       "      <th>Category</th>\n",
       "      <th>Vendor Number</th>\n",
       "      <th>Bottle Volume (ml)</th>\n",
       "      <th>State Bottle Cost</th>\n",
       "      <th>State Bottle Retail</th>\n",
       "      <th>Bottles Sold</th>\n",
       "      <th>Sale (Dollars)</th>\n",
       "      <th>Volume Sold (Liters)</th>\n",
       "      <th>Volume Sold (Gallons)</th>\n",
       "    </tr>\n",
       "  </thead>\n",
       "  <tbody>\n",
       "    <tr>\n",
       "      <th>count</th>\n",
       "      <td>48944.000000</td>\n",
       "      <td>48944.000000</td>\n",
       "      <td>48944.000000</td>\n",
       "      <td>48944.000000</td>\n",
       "      <td>48944.000000</td>\n",
       "      <td>48944.000000</td>\n",
       "      <td>48944.000000</td>\n",
       "      <td>48944.000000</td>\n",
       "      <td>48944.000000</td>\n",
       "      <td>48944.000000</td>\n",
       "    </tr>\n",
       "    <tr>\n",
       "      <th>mean</th>\n",
       "      <td>3570.304205</td>\n",
       "      <td>1042170.030341</td>\n",
       "      <td>256.865520</td>\n",
       "      <td>879.308169</td>\n",
       "      <td>10.125165</td>\n",
       "      <td>15.202882</td>\n",
       "      <td>11.843678</td>\n",
       "      <td>158.287410</td>\n",
       "      <td>10.265104</td>\n",
       "      <td>2.712227</td>\n",
       "    </tr>\n",
       "    <tr>\n",
       "      <th>std</th>\n",
       "      <td>1020.770092</td>\n",
       "      <td>45032.641021</td>\n",
       "      <td>141.659533</td>\n",
       "      <td>496.619868</td>\n",
       "      <td>8.162204</td>\n",
       "      <td>12.242765</td>\n",
       "      <td>31.217730</td>\n",
       "      <td>521.430608</td>\n",
       "      <td>34.467566</td>\n",
       "      <td>9.105284</td>\n",
       "    </tr>\n",
       "    <tr>\n",
       "      <th>min</th>\n",
       "      <td>2190.000000</td>\n",
       "      <td>1011100.000000</td>\n",
       "      <td>10.000000</td>\n",
       "      <td>50.000000</td>\n",
       "      <td>0.890000</td>\n",
       "      <td>1.340000</td>\n",
       "      <td>1.000000</td>\n",
       "      <td>1.340000</td>\n",
       "      <td>0.100000</td>\n",
       "      <td>0.030000</td>\n",
       "    </tr>\n",
       "    <tr>\n",
       "      <th>25%</th>\n",
       "      <td>2619.000000</td>\n",
       "      <td>1012300.000000</td>\n",
       "      <td>115.000000</td>\n",
       "      <td>750.000000</td>\n",
       "      <td>5.500000</td>\n",
       "      <td>8.250000</td>\n",
       "      <td>3.000000</td>\n",
       "      <td>33.750000</td>\n",
       "      <td>1.500000</td>\n",
       "      <td>0.400000</td>\n",
       "    </tr>\n",
       "    <tr>\n",
       "      <th>50%</th>\n",
       "      <td>3644.000000</td>\n",
       "      <td>1031200.000000</td>\n",
       "      <td>260.000000</td>\n",
       "      <td>750.000000</td>\n",
       "      <td>8.250000</td>\n",
       "      <td>12.380000</td>\n",
       "      <td>6.000000</td>\n",
       "      <td>77.980000</td>\n",
       "      <td>9.000000</td>\n",
       "      <td>2.380000</td>\n",
       "    </tr>\n",
       "    <tr>\n",
       "      <th>75%</th>\n",
       "      <td>4599.000000</td>\n",
       "      <td>1062300.000000</td>\n",
       "      <td>380.000000</td>\n",
       "      <td>1000.000000</td>\n",
       "      <td>12.070000</td>\n",
       "      <td>18.110000</td>\n",
       "      <td>12.000000</td>\n",
       "      <td>148.680000</td>\n",
       "      <td>10.500000</td>\n",
       "      <td>2.770000</td>\n",
       "    </tr>\n",
       "    <tr>\n",
       "      <th>max</th>\n",
       "      <td>5211.000000</td>\n",
       "      <td>1701100.000000</td>\n",
       "      <td>978.000000</td>\n",
       "      <td>6000.000000</td>\n",
       "      <td>425.000000</td>\n",
       "      <td>637.500000</td>\n",
       "      <td>1320.000000</td>\n",
       "      <td>36392.400000</td>\n",
       "      <td>1320.000000</td>\n",
       "      <td>348.710000</td>\n",
       "    </tr>\n",
       "  </tbody>\n",
       "</table>\n",
       "</div>"
      ],
      "text/plain": [
       "       Store Number        Category  Vendor Number  Bottle Volume (ml)  \\\n",
       "count  48944.000000    48944.000000   48944.000000        48944.000000   \n",
       "mean    3570.304205  1042170.030341     256.865520          879.308169   \n",
       "std     1020.770092    45032.641021     141.659533          496.619868   \n",
       "min     2190.000000  1011100.000000      10.000000           50.000000   \n",
       "25%     2619.000000  1012300.000000     115.000000          750.000000   \n",
       "50%     3644.000000  1031200.000000     260.000000          750.000000   \n",
       "75%     4599.000000  1062300.000000     380.000000         1000.000000   \n",
       "max     5211.000000  1701100.000000     978.000000         6000.000000   \n",
       "\n",
       "       State Bottle Cost  State Bottle Retail  Bottles Sold  Sale (Dollars)  \\\n",
       "count       48944.000000         48944.000000  48944.000000    48944.000000   \n",
       "mean           10.125165            15.202882     11.843678      158.287410   \n",
       "std             8.162204            12.242765     31.217730      521.430608   \n",
       "min             0.890000             1.340000      1.000000        1.340000   \n",
       "25%             5.500000             8.250000      3.000000       33.750000   \n",
       "50%             8.250000            12.380000      6.000000       77.980000   \n",
       "75%            12.070000            18.110000     12.000000      148.680000   \n",
       "max           425.000000           637.500000   1320.000000    36392.400000   \n",
       "\n",
       "       Volume Sold (Liters)  Volume Sold (Gallons)  \n",
       "count          48944.000000           48944.000000  \n",
       "mean              10.265104               2.712227  \n",
       "std               34.467566               9.105284  \n",
       "min                0.100000               0.030000  \n",
       "25%                1.500000               0.400000  \n",
       "50%                9.000000               2.380000  \n",
       "75%               10.500000               2.770000  \n",
       "max             1320.000000             348.710000  "
      ]
     },
     "execution_count": 38,
     "metadata": {},
     "output_type": "execute_result"
    }
   ],
   "source": [
    "polk.describe()"
   ]
  },
  {
   "cell_type": "code",
   "execution_count": 39,
   "metadata": {
    "collapsed": false
   },
   "outputs": [
    {
     "data": {
      "text/html": [
       "<div>\n",
       "<table border=\"1\" class=\"dataframe\">\n",
       "  <thead>\n",
       "    <tr style=\"text-align: right;\">\n",
       "      <th></th>\n",
       "      <th>Date</th>\n",
       "      <th>Store Number</th>\n",
       "      <th>City</th>\n",
       "      <th>Zip Code</th>\n",
       "      <th>County</th>\n",
       "      <th>Category</th>\n",
       "      <th>Category Name</th>\n",
       "      <th>Vendor Number</th>\n",
       "      <th>Item Description</th>\n",
       "      <th>Bottle Volume (ml)</th>\n",
       "      <th>State Bottle Cost</th>\n",
       "      <th>State Bottle Retail</th>\n",
       "      <th>Bottles Sold</th>\n",
       "      <th>Sale (Dollars)</th>\n",
       "      <th>Volume Sold (Liters)</th>\n",
       "      <th>Volume Sold (Gallons)</th>\n",
       "    </tr>\n",
       "  </thead>\n",
       "  <tbody>\n",
       "    <tr>\n",
       "      <th>10</th>\n",
       "      <td>2015-09-28</td>\n",
       "      <td>2648</td>\n",
       "      <td>WEST DES MOINES</td>\n",
       "      <td>50265</td>\n",
       "      <td>Polk</td>\n",
       "      <td>1011250</td>\n",
       "      <td>SINGLE BARREL BOURBON WHISKIES</td>\n",
       "      <td>65</td>\n",
       "      <td>Knob Creek Single Barrel Reserve</td>\n",
       "      <td>750</td>\n",
       "      <td>26.24</td>\n",
       "      <td>39.36</td>\n",
       "      <td>6</td>\n",
       "      <td>236.16</td>\n",
       "      <td>4.5</td>\n",
       "      <td>1.19</td>\n",
       "    </tr>\n",
       "    <tr>\n",
       "      <th>39</th>\n",
       "      <td>2016-03-07</td>\n",
       "      <td>2633</td>\n",
       "      <td>DES MOINES</td>\n",
       "      <td>50320</td>\n",
       "      <td>Polk</td>\n",
       "      <td>1011200</td>\n",
       "      <td>STRAIGHT BOURBON WHISKIES</td>\n",
       "      <td>461</td>\n",
       "      <td>Wild Turkey 101</td>\n",
       "      <td>1000</td>\n",
       "      <td>16.16</td>\n",
       "      <td>24.24</td>\n",
       "      <td>12</td>\n",
       "      <td>290.88</td>\n",
       "      <td>12.0</td>\n",
       "      <td>3.17</td>\n",
       "    </tr>\n",
       "    <tr>\n",
       "      <th>58</th>\n",
       "      <td>2015-09-16</td>\n",
       "      <td>4919</td>\n",
       "      <td>ALTOONA</td>\n",
       "      <td>50009</td>\n",
       "      <td>Polk</td>\n",
       "      <td>1031080</td>\n",
       "      <td>VODKA 80 PROOF</td>\n",
       "      <td>434</td>\n",
       "      <td>Hawkeye Vodka</td>\n",
       "      <td>1750</td>\n",
       "      <td>7.17</td>\n",
       "      <td>10.76</td>\n",
       "      <td>18</td>\n",
       "      <td>193.68</td>\n",
       "      <td>31.5</td>\n",
       "      <td>8.32</td>\n",
       "    </tr>\n",
       "    <tr>\n",
       "      <th>95</th>\n",
       "      <td>2015-06-26</td>\n",
       "      <td>2478</td>\n",
       "      <td>ALTOONA</td>\n",
       "      <td>50009</td>\n",
       "      <td>Polk</td>\n",
       "      <td>1042100</td>\n",
       "      <td>IMPORTED DRY GINS</td>\n",
       "      <td>260</td>\n",
       "      <td>Tanqueray Gin</td>\n",
       "      <td>750</td>\n",
       "      <td>12.25</td>\n",
       "      <td>18.38</td>\n",
       "      <td>12</td>\n",
       "      <td>220.56</td>\n",
       "      <td>9.0</td>\n",
       "      <td>2.38</td>\n",
       "    </tr>\n",
       "    <tr>\n",
       "      <th>104</th>\n",
       "      <td>2015-12-30</td>\n",
       "      <td>4829</td>\n",
       "      <td>DES MOINES</td>\n",
       "      <td>50314</td>\n",
       "      <td>Polk</td>\n",
       "      <td>1012200</td>\n",
       "      <td>SCOTCH WHISKIES</td>\n",
       "      <td>35</td>\n",
       "      <td>Dewars White Label Scotch</td>\n",
       "      <td>1000</td>\n",
       "      <td>17.50</td>\n",
       "      <td>26.25</td>\n",
       "      <td>24</td>\n",
       "      <td>630.00</td>\n",
       "      <td>24.0</td>\n",
       "      <td>6.34</td>\n",
       "    </tr>\n",
       "  </tbody>\n",
       "</table>\n",
       "</div>"
      ],
      "text/plain": [
       "          Date  Store Number             City Zip Code County  Category  \\\n",
       "10  2015-09-28          2648  WEST DES MOINES    50265   Polk   1011250   \n",
       "39  2016-03-07          2633       DES MOINES    50320   Polk   1011200   \n",
       "58  2015-09-16          4919          ALTOONA    50009   Polk   1031080   \n",
       "95  2015-06-26          2478          ALTOONA    50009   Polk   1042100   \n",
       "104 2015-12-30          4829       DES MOINES    50314   Polk   1012200   \n",
       "\n",
       "                      Category Name  Vendor Number  \\\n",
       "10   SINGLE BARREL BOURBON WHISKIES             65   \n",
       "39        STRAIGHT BOURBON WHISKIES            461   \n",
       "58                   VODKA 80 PROOF            434   \n",
       "95                IMPORTED DRY GINS            260   \n",
       "104                 SCOTCH WHISKIES             35   \n",
       "\n",
       "                     Item Description  Bottle Volume (ml)  State Bottle Cost  \\\n",
       "10   Knob Creek Single Barrel Reserve                 750              26.24   \n",
       "39                    Wild Turkey 101                1000              16.16   \n",
       "58                      Hawkeye Vodka                1750               7.17   \n",
       "95                      Tanqueray Gin                 750              12.25   \n",
       "104         Dewars White Label Scotch                1000              17.50   \n",
       "\n",
       "     State Bottle Retail  Bottles Sold  Sale (Dollars)  Volume Sold (Liters)  \\\n",
       "10                 39.36             6          236.16                   4.5   \n",
       "39                 24.24            12          290.88                  12.0   \n",
       "58                 10.76            18          193.68                  31.5   \n",
       "95                 18.38            12          220.56                   9.0   \n",
       "104                26.25            24          630.00                  24.0   \n",
       "\n",
       "     Volume Sold (Gallons)  \n",
       "10                    1.19  \n",
       "39                    3.17  \n",
       "58                    8.32  \n",
       "95                    2.38  \n",
       "104                   6.34  "
      ]
     },
     "execution_count": 39,
     "metadata": {},
     "output_type": "execute_result"
    }
   ],
   "source": [
    "# above the mean\n",
    "polk_sales = polk[ polk['Sale (Dollars)'] > polk['Sale (Dollars)'].mean() ]\n",
    "polk_sales.head()"
   ]
  },
  {
   "cell_type": "code",
   "execution_count": 40,
   "metadata": {
    "collapsed": false
   },
   "outputs": [
    {
     "name": "stderr",
     "output_type": "stream",
     "text": [
      "/Users/isaacmoore/anaconda/lib/python2.7/site-packages/ipykernel/__main__.py:3: FutureWarning: sort(columns=....) is deprecated, use sort_values(by=.....)\n",
      "  app.launch_new_instance()\n"
     ]
    },
    {
     "data": {
      "text/html": [
       "<div>\n",
       "<table border=\"1\" class=\"dataframe\">\n",
       "  <thead>\n",
       "    <tr style=\"text-align: right;\">\n",
       "      <th></th>\n",
       "      <th>Sale (Dollars)</th>\n",
       "    </tr>\n",
       "    <tr>\n",
       "      <th>Category Name</th>\n",
       "      <th></th>\n",
       "    </tr>\n",
       "  </thead>\n",
       "  <tbody>\n",
       "    <tr>\n",
       "      <th>VODKA 80 PROOF</th>\n",
       "      <td>545687.58</td>\n",
       "    </tr>\n",
       "    <tr>\n",
       "      <th>CANADIAN WHISKIES</th>\n",
       "      <td>480237.44</td>\n",
       "    </tr>\n",
       "    <tr>\n",
       "      <th>IMPORTED VODKA</th>\n",
       "      <td>444641.15</td>\n",
       "    </tr>\n",
       "    <tr>\n",
       "      <th>TEQUILA</th>\n",
       "      <td>436795.54</td>\n",
       "    </tr>\n",
       "    <tr>\n",
       "      <th>WHISKEY LIQUEUR</th>\n",
       "      <td>406156.08</td>\n",
       "    </tr>\n",
       "    <tr>\n",
       "      <th>SPICED RUM</th>\n",
       "      <td>404112.30</td>\n",
       "    </tr>\n",
       "    <tr>\n",
       "      <th>STRAIGHT BOURBON WHISKIES</th>\n",
       "      <td>335885.96</td>\n",
       "    </tr>\n",
       "    <tr>\n",
       "      <th>TENNESSEE WHISKIES</th>\n",
       "      <td>277335.47</td>\n",
       "    </tr>\n",
       "    <tr>\n",
       "      <th>MISC. IMPORTED CORDIALS &amp; LIQUEURS</th>\n",
       "      <td>217248.01</td>\n",
       "    </tr>\n",
       "    <tr>\n",
       "      <th>IMPORTED VODKA - MISC</th>\n",
       "      <td>213153.12</td>\n",
       "    </tr>\n",
       "  </tbody>\n",
       "</table>\n",
       "</div>"
      ],
      "text/plain": [
       "                                    Sale (Dollars)\n",
       "Category Name                                     \n",
       "VODKA 80 PROOF                           545687.58\n",
       "CANADIAN WHISKIES                        480237.44\n",
       "IMPORTED VODKA                           444641.15\n",
       "TEQUILA                                  436795.54\n",
       "WHISKEY LIQUEUR                          406156.08\n",
       "SPICED RUM                               404112.30\n",
       "STRAIGHT BOURBON WHISKIES                335885.96\n",
       "TENNESSEE WHISKIES                       277335.47\n",
       "MISC. IMPORTED CORDIALS & LIQUEURS       217248.01\n",
       "IMPORTED VODKA - MISC                    213153.12"
      ]
     },
     "execution_count": 40,
     "metadata": {},
     "output_type": "execute_result"
    }
   ],
   "source": [
    "# above the mean\n",
    "polk_sales_items = pd.DataFrame(pd.pivot_table(polk_sales, index='Category Name', values='Sale (Dollars)', aggfunc=np.sum))\n",
    "polk_salesitems_10 = polk_sales_items.sort('Sale (Dollars)', ascending=False).head(10)\n",
    "polk_salesitems_10"
   ]
  },
  {
   "cell_type": "code",
   "execution_count": 41,
   "metadata": {
    "collapsed": false
   },
   "outputs": [
    {
     "data": {
      "text/plain": [
       "[<matplotlib.text.Text at 0x118708d10>]"
      ]
     },
     "execution_count": 41,
     "metadata": {},
     "output_type": "execute_result"
    },
    {
     "data": {
      "image/png": "[encoded data removed]",
      "text/plain": [
       "<matplotlib.figure.Figure at 0x119dba810>"
      ]
     },
     "metadata": {},
     "output_type": "display_data"
    }
   ],
   "source": [
    "plt.figure(figsize=(10,10))\n",
    "sns.barplot(y=polk_salesitems_10.index, x=polk_salesitems_10['Sale (Dollars)'], color='b')\\\n",
    ".set(title='Top 10 most popular items in Polk County')"
   ]
  },
  {
   "cell_type": "markdown",
   "metadata": {},
   "source": [
    "# Build your models\n",
    "\n",
    "Using scikit-learn or statsmodels, build the necessary models for your scenario. Evaluate model fit."
   ]
  },
  {
   "cell_type": "markdown",
   "metadata": {},
   "source": [
    "Use the data from 2015 to make a linear model using as many variables as you find useful to predict the yearly sales of each store. You must use the sales from Jan to March per store as one of your variables."
   ]
  },
  {
   "cell_type": "code",
   "execution_count": 42,
   "metadata": {
    "collapsed": false
   },
   "outputs": [
    {
     "data": {
      "text/html": [
       "<div>\n",
       "<table border=\"1\" class=\"dataframe\">\n",
       "  <thead>\n",
       "    <tr style=\"text-align: right;\">\n",
       "      <th></th>\n",
       "      <th>Date</th>\n",
       "      <th>Store Number</th>\n",
       "      <th>City</th>\n",
       "      <th>Zip Code</th>\n",
       "      <th>County</th>\n",
       "      <th>Category</th>\n",
       "      <th>Category Name</th>\n",
       "      <th>Vendor Number</th>\n",
       "      <th>Item Description</th>\n",
       "      <th>Bottle Volume (ml)</th>\n",
       "      <th>State Bottle Cost</th>\n",
       "      <th>State Bottle Retail</th>\n",
       "      <th>Bottles Sold</th>\n",
       "      <th>Sale (Dollars)</th>\n",
       "      <th>Volume Sold (Liters)</th>\n",
       "      <th>Volume Sold (Gallons)</th>\n",
       "    </tr>\n",
       "  </thead>\n",
       "  <tbody>\n",
       "    <tr>\n",
       "      <th>0</th>\n",
       "      <td>2015-11-04</td>\n",
       "      <td>3717</td>\n",
       "      <td>SUMNER</td>\n",
       "      <td>50674</td>\n",
       "      <td>Bremer</td>\n",
       "      <td>1051100</td>\n",
       "      <td>APRICOT BRANDIES</td>\n",
       "      <td>55</td>\n",
       "      <td>Mr. Boston Apricot Brandy</td>\n",
       "      <td>750</td>\n",
       "      <td>4.50</td>\n",
       "      <td>6.75</td>\n",
       "      <td>12</td>\n",
       "      <td>81.00</td>\n",
       "      <td>9.0</td>\n",
       "      <td>2.38</td>\n",
       "    </tr>\n",
       "    <tr>\n",
       "      <th>1</th>\n",
       "      <td>2016-03-02</td>\n",
       "      <td>2614</td>\n",
       "      <td>DAVENPORT</td>\n",
       "      <td>52807</td>\n",
       "      <td>Scott</td>\n",
       "      <td>1011100</td>\n",
       "      <td>BLENDED WHISKIES</td>\n",
       "      <td>395</td>\n",
       "      <td>Tin Cup</td>\n",
       "      <td>750</td>\n",
       "      <td>13.75</td>\n",
       "      <td>20.63</td>\n",
       "      <td>2</td>\n",
       "      <td>41.26</td>\n",
       "      <td>1.5</td>\n",
       "      <td>0.40</td>\n",
       "    </tr>\n",
       "    <tr>\n",
       "      <th>2</th>\n",
       "      <td>2016-02-11</td>\n",
       "      <td>2106</td>\n",
       "      <td>CEDAR FALLS</td>\n",
       "      <td>50613</td>\n",
       "      <td>Black Hawk</td>\n",
       "      <td>1011200</td>\n",
       "      <td>STRAIGHT BOURBON WHISKIES</td>\n",
       "      <td>65</td>\n",
       "      <td>Jim Beam</td>\n",
       "      <td>1000</td>\n",
       "      <td>12.59</td>\n",
       "      <td>18.89</td>\n",
       "      <td>24</td>\n",
       "      <td>453.36</td>\n",
       "      <td>24.0</td>\n",
       "      <td>6.34</td>\n",
       "    </tr>\n",
       "    <tr>\n",
       "      <th>3</th>\n",
       "      <td>2016-02-03</td>\n",
       "      <td>2501</td>\n",
       "      <td>AMES</td>\n",
       "      <td>50010</td>\n",
       "      <td>Story</td>\n",
       "      <td>1071100</td>\n",
       "      <td>AMERICAN COCKTAILS</td>\n",
       "      <td>395</td>\n",
       "      <td>1800 Ultimate Margarita</td>\n",
       "      <td>1750</td>\n",
       "      <td>9.50</td>\n",
       "      <td>14.25</td>\n",
       "      <td>6</td>\n",
       "      <td>85.50</td>\n",
       "      <td>10.5</td>\n",
       "      <td>2.77</td>\n",
       "    </tr>\n",
       "    <tr>\n",
       "      <th>4</th>\n",
       "      <td>2015-08-18</td>\n",
       "      <td>3654</td>\n",
       "      <td>BELMOND</td>\n",
       "      <td>50421</td>\n",
       "      <td>Wright</td>\n",
       "      <td>1031080</td>\n",
       "      <td>VODKA 80 PROOF</td>\n",
       "      <td>297</td>\n",
       "      <td>Five O'clock Vodka</td>\n",
       "      <td>1750</td>\n",
       "      <td>7.20</td>\n",
       "      <td>10.80</td>\n",
       "      <td>12</td>\n",
       "      <td>129.60</td>\n",
       "      <td>21.0</td>\n",
       "      <td>5.55</td>\n",
       "    </tr>\n",
       "  </tbody>\n",
       "</table>\n",
       "</div>"
      ],
      "text/plain": [
       "        Date  Store Number         City Zip Code      County  Category  \\\n",
       "0 2015-11-04          3717       SUMNER    50674      Bremer   1051100   \n",
       "1 2016-03-02          2614    DAVENPORT    52807       Scott   1011100   \n",
       "2 2016-02-11          2106  CEDAR FALLS    50613  Black Hawk   1011200   \n",
       "3 2016-02-03          2501         AMES    50010       Story   1071100   \n",
       "4 2015-08-18          3654      BELMOND    50421      Wright   1031080   \n",
       "\n",
       "               Category Name  Vendor Number           Item Description  \\\n",
       "0           APRICOT BRANDIES             55  Mr. Boston Apricot Brandy   \n",
       "1           BLENDED WHISKIES            395                    Tin Cup   \n",
       "2  STRAIGHT BOURBON WHISKIES             65                   Jim Beam   \n",
       "3         AMERICAN COCKTAILS            395    1800 Ultimate Margarita   \n",
       "4             VODKA 80 PROOF            297         Five O'clock Vodka   \n",
       "\n",
       "   Bottle Volume (ml)  State Bottle Cost  State Bottle Retail  Bottles Sold  \\\n",
       "0                 750               4.50                 6.75            12   \n",
       "1                 750              13.75                20.63             2   \n",
       "2                1000              12.59                18.89            24   \n",
       "3                1750               9.50                14.25             6   \n",
       "4                1750               7.20                10.80            12   \n",
       "\n",
       "   Sale (Dollars)  Volume Sold (Liters)  Volume Sold (Gallons)  \n",
       "0           81.00                   9.0                   2.38  \n",
       "1           41.26                   1.5                   0.40  \n",
       "2          453.36                  24.0                   6.34  \n",
       "3           85.50                  10.5                   2.77  \n",
       "4          129.60                  21.0                   5.55  "
      ]
     },
     "execution_count": 42,
     "metadata": {},
     "output_type": "execute_result"
    }
   ],
   "source": [
    "# Filter Sales between Jan 1, 2015  and Mar 31, 2016.\n",
    "start_date = pd.Timestamp(\"20150101\")\n",
    "end_date = pd.Timestamp(\"20161231\")\n",
    "mask = (exdata['Date'] >= start_date) & (exdata['Date'] <= end_date)\n",
    "sales_Jan15_Mar16 = exdata[mask]\n",
    "sales_Jan15_Mar16.head()"
   ]
  },
  {
   "cell_type": "code",
   "execution_count": 43,
   "metadata": {
    "collapsed": false,
    "scrolled": true
   },
   "outputs": [
    {
     "data": {
      "text/html": [
       "<div>\n",
       "<table border=\"1\" class=\"dataframe\">\n",
       "  <thead>\n",
       "    <tr style=\"text-align: right;\">\n",
       "      <th></th>\n",
       "      <th>Category</th>\n",
       "      <th>Vendor Number</th>\n",
       "      <th>Bottle Volume (ml)</th>\n",
       "      <th>State Bottle Cost</th>\n",
       "      <th>State Bottle Retail</th>\n",
       "      <th>Bottles Sold</th>\n",
       "      <th>Sale (Dollars)</th>\n",
       "      <th>Volume Sold (Liters)</th>\n",
       "      <th>Volume Sold (Gallons)</th>\n",
       "    </tr>\n",
       "    <tr>\n",
       "      <th>Store Number</th>\n",
       "      <th></th>\n",
       "      <th></th>\n",
       "      <th></th>\n",
       "      <th></th>\n",
       "      <th></th>\n",
       "      <th></th>\n",
       "      <th></th>\n",
       "      <th></th>\n",
       "      <th></th>\n",
       "    </tr>\n",
       "  </thead>\n",
       "  <tbody>\n",
       "    <tr>\n",
       "      <th>2106</th>\n",
       "      <td>684160227</td>\n",
       "      <td>175235</td>\n",
       "      <td>595600</td>\n",
       "      <td>6722.95</td>\n",
       "      <td>10092.37</td>\n",
       "      <td>12573</td>\n",
       "      <td>176517.45</td>\n",
       "      <td>11836.10</td>\n",
       "      <td>3127.28</td>\n",
       "    </tr>\n",
       "    <tr>\n",
       "      <th>2113</th>\n",
       "      <td>191207086</td>\n",
       "      <td>43223</td>\n",
       "      <td>175625</td>\n",
       "      <td>1994.22</td>\n",
       "      <td>2993.26</td>\n",
       "      <td>830</td>\n",
       "      <td>11376.12</td>\n",
       "      <td>836.85</td>\n",
       "      <td>221.03</td>\n",
       "    </tr>\n",
       "    <tr>\n",
       "      <th>2130</th>\n",
       "      <td>531659974</td>\n",
       "      <td>129645</td>\n",
       "      <td>475375</td>\n",
       "      <td>5083.25</td>\n",
       "      <td>7627.72</td>\n",
       "      <td>9144</td>\n",
       "      <td>139440.02</td>\n",
       "      <td>8436.27</td>\n",
       "      <td>2228.81</td>\n",
       "    </tr>\n",
       "    <tr>\n",
       "      <th>2152</th>\n",
       "      <td>167530495</td>\n",
       "      <td>38745</td>\n",
       "      <td>169875</td>\n",
       "      <td>1372.80</td>\n",
       "      <td>2065.50</td>\n",
       "      <td>670</td>\n",
       "      <td>8625.74</td>\n",
       "      <td>720.87</td>\n",
       "      <td>190.39</td>\n",
       "    </tr>\n",
       "    <tr>\n",
       "      <th>2178</th>\n",
       "      <td>307983172</td>\n",
       "      <td>70428</td>\n",
       "      <td>302875</td>\n",
       "      <td>2833.94</td>\n",
       "      <td>4257.50</td>\n",
       "      <td>2408</td>\n",
       "      <td>29912.68</td>\n",
       "      <td>2437.92</td>\n",
       "      <td>644.09</td>\n",
       "    </tr>\n",
       "  </tbody>\n",
       "</table>\n",
       "</div>"
      ],
      "text/plain": [
       "               Category  Vendor Number  Bottle Volume (ml)  State Bottle Cost  \\\n",
       "Store Number                                                                    \n",
       "2106          684160227         175235              595600            6722.95   \n",
       "2113          191207086          43223              175625            1994.22   \n",
       "2130          531659974         129645              475375            5083.25   \n",
       "2152          167530495          38745              169875            1372.80   \n",
       "2178          307983172          70428              302875            2833.94   \n",
       "\n",
       "              State Bottle Retail  Bottles Sold  Sale (Dollars)  \\\n",
       "Store Number                                                      \n",
       "2106                     10092.37         12573       176517.45   \n",
       "2113                      2993.26           830        11376.12   \n",
       "2130                      7627.72          9144       139440.02   \n",
       "2152                      2065.50           670         8625.74   \n",
       "2178                      4257.50          2408        29912.68   \n",
       "\n",
       "              Volume Sold (Liters)  Volume Sold (Gallons)  \n",
       "Store Number                                               \n",
       "2106                      11836.10                3127.28  \n",
       "2113                        836.85                 221.03  \n",
       "2130                       8436.27                2228.81  \n",
       "2152                        720.87                 190.39  \n",
       "2178                       2437.92                 644.09  "
      ]
     },
     "execution_count": 43,
     "metadata": {},
     "output_type": "execute_result"
    }
   ],
   "source": [
    "# Group data by each store number.\n",
    "modeler = sales_Jan15_Mar16.groupby('Store Number').sum()\n",
    "modeler.head()"
   ]
  },
  {
   "cell_type": "code",
   "execution_count": 44,
   "metadata": {
    "collapsed": false
   },
   "outputs": [
    {
     "name": "stdout",
     "output_type": "stream",
     "text": [
      "Category Sale(Dollars) 0.535891612995\n",
      "Vendor Number Sale(Dollars) 0.538156359951\n",
      "Bottle Volume (ml) Sale(Dollars) 0.551501651894\n",
      "State Bottle Cost Sale(Dollars) 0.602420008953\n",
      "State Bottle Retail Sale(Dollars) 0.602308259818\n",
      "Bottles Sold Sale(Dollars) 0.974427345132\n",
      "Sale (Dollars) Sale(Dollars) 1.0\n",
      "Volume Sold (Liters) Sale(Dollars) 0.985692925562\n",
      "Volume Sold (Gallons) Sale(Dollars) 0.985702683491\n"
     ]
    }
   ],
   "source": [
    "# Using scikit learn find the best model for data in 2015 + Jan-Mar 2016 using all numeric columns.\n",
    "from sklearn import datasets, linear_model\n",
    "\n",
    "lm = linear_model.LinearRegression()\n",
    "\n",
    "for i, label1 in enumerate(modeler.columns):\n",
    "\n",
    "        X = modeler[[label1]]\n",
    "        y = modeler['Sale (Dollars)']\n",
    "\n",
    "        model = lm.fit(X, y)\n",
    "        predictions = lm.predict(X)\n",
    "\n",
    "        print label1, 'Sale(Dollars)', model.score(X,y)"
   ]
  },
  {
   "cell_type": "code",
   "execution_count": 45,
   "metadata": {
    "collapsed": false
   },
   "outputs": [
    {
     "name": "stdout",
     "output_type": "stream",
     "text": [
      "Sum of Squared Errors (SSE): 3807066656.29\n",
      "Variance: 3752635819.34\n",
      "Bias: 54430836.9449\n"
     ]
    }
   ],
   "source": [
    "yhat = lm.predict(X)\n",
    "sse = np.mean((np.mean(yhat) - y) ** 2)\n",
    "var = np.var(yhat)\n",
    "bias = sse - var - 0.01\n",
    "print 'Sum of Squared Errors (SSE):',sse\n",
    "print 'Variance:',var\n",
    "print 'Bias:',bias"
   ]
  },
  {
   "cell_type": "code",
   "execution_count": 46,
   "metadata": {
    "collapsed": false
   },
   "outputs": [
    {
     "name": "stdout",
     "output_type": "stream",
     "text": [
      "                            OLS Regression Results                            \n",
      "==============================================================================\n",
      "Dep. Variable:         Sale (Dollars)   R-squared:                       0.986\n",
      "Model:                            OLS   Adj. R-squared:                  0.986\n",
      "Method:                 Least Squares   F-statistic:                 9.487e+04\n",
      "Date:                Sun, 26 Jun 2016   Prob (F-statistic):               0.00\n",
      "Time:                        18:30:10   Log-Likelihood:                -14228.\n",
      "No. Observations:                1378   AIC:                         2.846e+04\n",
      "Df Residuals:                    1376   BIC:                         2.847e+04\n",
      "Df Model:                           1                                         \n",
      "Covariance Type:            nonrobust                                         \n",
      "=========================================================================================\n",
      "                            coef    std err          t      P>|t|      [95.0% Conf. Int.]\n",
      "-----------------------------------------------------------------------------------------\n",
      "const                 -2243.1201    217.900    -10.294      0.000     -2670.572 -1815.668\n",
      "Volume Sold (Gallons)    59.0673      0.192    308.003      0.000        58.691    59.444\n",
      "==============================================================================\n",
      "Omnibus:                      739.905   Durbin-Watson:                   1.601\n",
      "Prob(Omnibus):                  0.000   Jarque-Bera (JB):            76094.438\n",
      "Skew:                           1.545   Prob(JB):                         0.00\n",
      "Kurtosis:                      39.273   Cond. No.                     1.24e+03\n",
      "==============================================================================\n",
      "\n",
      "Warnings:\n",
      "[1] Standard Errors assume that the covariance matrix of the errors is correctly specified.\n",
      "[2] The condition number is large, 1.24e+03. This might indicate that there are\n",
      "strong multicollinearity or other numerical problems.\n"
     ]
    }
   ],
   "source": [
    "# Using stats models use the best fit model using ordinary least squares (OLS) regression\n",
    "leastsq_reg = sm.OLS(modeler['Sale (Dollars)'], sm.add_constant(modeler['Volume Sold (Gallons)'])).fit()\n",
    "print leastsq_reg.summary()"
   ]
  },
  {
   "cell_type": "code",
   "execution_count": 82,
   "metadata": {
    "collapsed": false
   },
   "outputs": [
    {
     "data": {
      "text/plain": [
       "<seaborn.axisgrid.FacetGrid at 0x11bd26850>"
      ]
     },
     "execution_count": 82,
     "metadata": {},
     "output_type": "execute_result"
    },
    {
     "data": {
      "image/png": "[encoded data removed]",
      "text/plain": [
       "<matplotlib.figure.Figure at 0x11bd26990>"
      ]
     },
     "metadata": {},
     "output_type": "display_data"
    }
   ],
   "source": [
    "sns.lmplot(x='Sale (Dollars)', y='Volume Sold (Gallons)', data = modeler, size=10)\\\n",
    ".set(title='Volume Sold (Gallons) per Sale (Dollars)\\n for Jan 2015 to Mar 2016')"
   ]
  },
  {
   "cell_type": "raw",
   "metadata": {},
   "source": [
    "Linear Regression using multiple variables."
   ]
  },
  {
   "cell_type": "code",
   "execution_count": 48,
   "metadata": {
    "collapsed": false,
    "scrolled": true
   },
   "outputs": [
    {
     "data": {
      "text/html": [
       "<div>\n",
       "<table border=\"1\" class=\"dataframe\">\n",
       "  <thead>\n",
       "    <tr style=\"text-align: right;\">\n",
       "      <th></th>\n",
       "      <th>Category</th>\n",
       "      <th>Vendor Number</th>\n",
       "      <th>Bottle Volume (ml)</th>\n",
       "      <th>State Bottle Cost</th>\n",
       "      <th>State Bottle Retail</th>\n",
       "      <th>Bottles Sold</th>\n",
       "      <th>Volume Sold (Liters)</th>\n",
       "      <th>Volume Sold (Gallons)</th>\n",
       "    </tr>\n",
       "    <tr>\n",
       "      <th>Store Number</th>\n",
       "      <th></th>\n",
       "      <th></th>\n",
       "      <th></th>\n",
       "      <th></th>\n",
       "      <th></th>\n",
       "      <th></th>\n",
       "      <th></th>\n",
       "      <th></th>\n",
       "    </tr>\n",
       "  </thead>\n",
       "  <tbody>\n",
       "    <tr>\n",
       "      <th>2106</th>\n",
       "      <td>684160227</td>\n",
       "      <td>175235</td>\n",
       "      <td>595600</td>\n",
       "      <td>6722.95</td>\n",
       "      <td>10092.37</td>\n",
       "      <td>12573</td>\n",
       "      <td>11836.10</td>\n",
       "      <td>3127.28</td>\n",
       "    </tr>\n",
       "    <tr>\n",
       "      <th>2113</th>\n",
       "      <td>191207086</td>\n",
       "      <td>43223</td>\n",
       "      <td>175625</td>\n",
       "      <td>1994.22</td>\n",
       "      <td>2993.26</td>\n",
       "      <td>830</td>\n",
       "      <td>836.85</td>\n",
       "      <td>221.03</td>\n",
       "    </tr>\n",
       "    <tr>\n",
       "      <th>2130</th>\n",
       "      <td>531659974</td>\n",
       "      <td>129645</td>\n",
       "      <td>475375</td>\n",
       "      <td>5083.25</td>\n",
       "      <td>7627.72</td>\n",
       "      <td>9144</td>\n",
       "      <td>8436.27</td>\n",
       "      <td>2228.81</td>\n",
       "    </tr>\n",
       "    <tr>\n",
       "      <th>2152</th>\n",
       "      <td>167530495</td>\n",
       "      <td>38745</td>\n",
       "      <td>169875</td>\n",
       "      <td>1372.80</td>\n",
       "      <td>2065.50</td>\n",
       "      <td>670</td>\n",
       "      <td>720.87</td>\n",
       "      <td>190.39</td>\n",
       "    </tr>\n",
       "    <tr>\n",
       "      <th>2178</th>\n",
       "      <td>307983172</td>\n",
       "      <td>70428</td>\n",
       "      <td>302875</td>\n",
       "      <td>2833.94</td>\n",
       "      <td>4257.50</td>\n",
       "      <td>2408</td>\n",
       "      <td>2437.92</td>\n",
       "      <td>644.09</td>\n",
       "    </tr>\n",
       "  </tbody>\n",
       "</table>\n",
       "</div>"
      ],
      "text/plain": [
       "               Category  Vendor Number  Bottle Volume (ml)  State Bottle Cost  \\\n",
       "Store Number                                                                    \n",
       "2106          684160227         175235              595600            6722.95   \n",
       "2113          191207086          43223              175625            1994.22   \n",
       "2130          531659974         129645              475375            5083.25   \n",
       "2152          167530495          38745              169875            1372.80   \n",
       "2178          307983172          70428              302875            2833.94   \n",
       "\n",
       "              State Bottle Retail  Bottles Sold  Volume Sold (Liters)  \\\n",
       "Store Number                                                            \n",
       "2106                     10092.37         12573              11836.10   \n",
       "2113                      2993.26           830                836.85   \n",
       "2130                      7627.72          9144               8436.27   \n",
       "2152                      2065.50           670                720.87   \n",
       "2178                      4257.50          2408               2437.92   \n",
       "\n",
       "              Volume Sold (Gallons)  \n",
       "Store Number                         \n",
       "2106                        3127.28  \n",
       "2113                         221.03  \n",
       "2130                        2228.81  \n",
       "2152                         190.39  \n",
       "2178                         644.09  "
      ]
     },
     "execution_count": 48,
     "metadata": {},
     "output_type": "execute_result"
    }
   ],
   "source": [
    "modeler2 = modeler.drop('Sale (Dollars)',1)\n",
    "modeler2.head()"
   ]
  },
  {
   "cell_type": "code",
   "execution_count": 49,
   "metadata": {
    "collapsed": false
   },
   "outputs": [],
   "source": [
    "from sklearn import cross_validation\n",
    "X_train, X_test, y_train, y_test = cross_validation.train_test_split(modeler2, modeler['Sale (Dollars)'])"
   ]
  },
  {
   "cell_type": "code",
   "execution_count": 50,
   "metadata": {
    "collapsed": false
   },
   "outputs": [
    {
     "name": "stdout",
     "output_type": "stream",
     "text": [
      "(1033, 8) (1033,) (345, 8) (345,)\n"
     ]
    }
   ],
   "source": [
    "print X_train.shape, y_train.shape, X_test.shape, y_test.shape"
   ]
  },
  {
   "cell_type": "code",
   "execution_count": 51,
   "metadata": {
    "collapsed": false
   },
   "outputs": [],
   "source": [
    "lm.fit(X_train, y_train)\n",
    "pred_train = lm.predict(X_train)\n",
    "pred_test = lm.predict(X_test)"
   ]
  },
  {
   "cell_type": "code",
   "execution_count": 81,
   "metadata": {
    "collapsed": false
   },
   "outputs": [
    {
     "data": {
      "text/plain": [
       "<matplotlib.text.Text at 0x11bd8bbd0>"
      ]
     },
     "execution_count": 81,
     "metadata": {},
     "output_type": "execute_result"
    },
    {
     "data": {
      "image/png": "[encoded data removed]",
      "text/plain": [
       "<matplotlib.figure.Figure at 0x11bd26d10>"
      ]
     },
     "metadata": {},
     "output_type": "display_data"
    }
   ],
   "source": [
    "# Plot the train and test set.\n",
    "plt.figure(figsize=(10,10))\n",
    "train = plt.scatter(pred_train,(y_train-pred_train),c='b',alpha=0.5)\n",
    "\n",
    "test = plt.scatter(pred_test,(y_test-pred_test),c='r',alpha=0.5)\n",
    "\n",
    "plt.legend((train,test),('Training','Test'),loc='lower right')\n",
    "plt.title('Residual Plot')\n",
    "# Residual = Actual - Predicted"
   ]
  },
  {
   "cell_type": "code",
   "execution_count": 84,
   "metadata": {
    "collapsed": false
   },
   "outputs": [
    {
     "name": "stdout",
     "output_type": "stream",
     "text": [
      "MSE (Test): 20609140.2019\n",
      "Score - R^2 (Test): 0.996632174565\n"
     ]
    }
   ],
   "source": [
    "print 'MSE (Test):', np.mean((y_test - pred_test) ** 2)\n",
    "print 'Score - R^2 (Test):', model.score(X_test, y_test) "
   ]
  },
  {
   "cell_type": "markdown",
   "metadata": {},
   "source": [
    "## Plot your results\n",
    "\n",
    "Again make sure that you record any valuable information. For example, in the tax scenario, did you find the sales from the first three months of the year to be a good predictor of the total sales for the year? Plot the predictions versus the true values and discuss the successes and limitations of your models"
   ]
  },
  {
   "cell_type": "raw",
   "metadata": {},
   "source": [
    "Plots were made throughout the analysis."
   ]
  },
  {
   "cell_type": "markdown",
   "metadata": {},
   "source": [
    "# Present the Results\n",
    "\n",
    "Present your conclusions and results. If you have more than one interesting model feel free to include more than one along with a discussion. Use your work in this notebook to prepare your write-up."
   ]
  },
  {
   "cell_type": "raw",
   "metadata": {
    "collapsed": true
   },
   "source": [
    "As seen in the correlation heatmap, one of the strongest correlations for price was the Volume Sold (ml) and Volume Sold (Gallons). After performing an R^2 test on all fields we saw that Volume Sold (Gallons) and Sale (Dollars) yielded the best R^2 score. Applying an Ordinary Least Squares (OLS) regression the the R^2 result was 0.986, which corresponds approximately to the standard deviation, we can say that the predicted sale dollars in 2016 will not vary 2 times the RMSE 95% of the time.  \n",
    "Thus, we can say with 95% certainty that that sales of alcohol will be within $1.97 of our line fit, per Volume Sold (Gallons). \n",
    "Using multiple variables yields a greater R^2 score of 0.997 than using only Volume Sold (gallons). As such, this would give us a better predictor of Sales in 2016.\n",
    "These models could be applied to sales in Polk County, which has higher liquor sales than any other county.\n",
    "Since the data used to genreate the model was only using 10% of the original dataset, there is a possibility that the model is overfit to this dataset."
   ]
  }
 ],
 "metadata": {
  "kernelspec": {
   "display_name": "Python 2",
   "language": "python",
   "name": "python2"
  },
  "language_info": {
   "codemirror_mode": {
    "name": "ipython",
    "version": 2
   },
   "file_extension": ".py",
   "mimetype": "text/x-python",
   "name": "python",
   "nbconvert_exporter": "python",
   "pygments_lexer": "ipython2",
   "version": "2.7.11"
  }
 },
 "nbformat": 4,
 "nbformat_minor": 0
}
